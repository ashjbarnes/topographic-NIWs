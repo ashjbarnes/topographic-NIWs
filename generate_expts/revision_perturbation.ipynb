{
 "cells": [
  {
   "attachments": {},
   "cell_type": "markdown",
   "metadata": {},
   "source": [
    "## Take a bunch of runs and re-do them with "
   ]
  },
  {
   "cell_type": "code",
   "execution_count": 1,
   "metadata": {},
   "outputs": [],
   "source": [
    "from matplotlib import rc\n",
    "import numpy as np\n",
    "from netCDF4 import Dataset\n",
    "import matplotlib.pyplot as plt\n",
    "import os\n",
    "import xarray as xr\n",
    "import subprocess\n",
    "import matplotlib.pyplot as plt\n",
    "import shutil\n",
    "from pathlib import Path\n",
    "os.chdir(\"/home/149/ab8992/topographic-NIWs\")\n",
    "basepath = Path.cwd().absolute()\n",
    "\n",
    "import autolib as al\n",
    "\n",
    "# from dask.distributed import Client\n",
    "# client = Client()\n",
    "# client"
   ]
  },
  {
   "attachments": {},
   "cell_type": "markdown",
   "metadata": {},
   "source": [
    "## Make common forcing"
   ]
  },
  {
   "cell_type": "code",
   "execution_count": 2,
   "metadata": {},
   "outputs": [],
   "source": [
    "import autolib as al\n",
    "\n",
    "\n",
    "### COMMON ACROSS ALL EXPERIMENTS. \n",
    "##########################################################\n",
    "nlayers = 20             # number of layers\n",
    "Lx = 4000                # domain zonal extent [km]\n",
    "Ly = 4000                # domain meridional extent [km]\n",
    "H  = 4000                # total fluid's depth in [m]\n",
    "gridspacing = 2          # in [km]\n",
    "flat = False\n",
    "reverse = True\n",
    "x = np.arange(-Lx/2, Lx/2, gridspacing)\n",
    "y = np.arange(-Ly/2, Ly/2, gridspacing)\n",
    "ninterf = nlayers + 1    # number of interfaces\n",
    "interfaces = np.arange(0,  ninterf)\n",
    "nx = int(round(Lx/gridspacing))\n",
    "ny = int(round(Ly/gridspacing))\n",
    "overrides = [\"ADIABATIC = True\",\n",
    "             \"RHO_0 = 1027.0\",\n",
    "             f\"NJGLOBAL={ny}\",\n",
    "             f\"NIGLOBAL={nx}\",\n",
    "             f\"LENLON = {Lx}.0\",\n",
    "             f\"WESTLON = -{Lx//2}.0\",\n",
    "             f\"LENLAT = {Ly}.0\",\n",
    "             f\"WESTLAT = -{Ly//2}.0\",\n",
    "             f\"NK = {nlayers + 1}\"] ## Add one for mixed layer\n",
    "default_dir = \"default_rundir\"\n",
    "\n",
    "\n",
    "## Default values when unperturbed\n",
    "default_height = 1000 # m\n",
    "default_forcing_latwidth = 100 # km\n",
    "default_duration = 10 # hours\n",
    "default_layerdensities = np.linspace(1027,1029,nlayers) ## This is the default stratification. Has be modified to add mixed layer!\n",
    "default_strength = 1\n",
    "default_ridge_width = 12.5 # km\n",
    "\n",
    "\n",
    "## Value s from first pass! \n",
    "## Perterbation values\n",
    "## strat variables \n",
    "# strats = [0.25,0.2,0.5,0.75,1,1.25,1.5,2,3,4,0.001,0.01,6]\n",
    "\n",
    "## Height\n",
    "heights = [10,20,50,80,120,150,225,275,350,450,500,600,650,700,750,1250,1500,2000]\n",
    "# heights = [1000]\n",
    "## Duration\n",
    "durations = np.linspace(1,10,19) ## Note! Will need to modify the amount of time that model runs for with forcing in this case\n",
    "\n",
    "## Strength\n",
    "strengths = np.arange(1,15)\n",
    "\n",
    "## Topog Width\n",
    "widths = [4,8,16,25,35,50,75,100,125,150,175,200]\n",
    "\n",
    "## Forcing Width\n",
    "forcing_widths = [10,18,25,50,75,150,175,200,225,250,275,300,350,400,450,500]\n",
    "\n",
    "\n",
    "\n",
    "# # Save the common wind forcing\n",
    "# STRESS_X = al.windstress_gaussian(nx = nx,ny = ny)\n",
    "# eta_ridge = al.eta_gaussian_hill(\n",
    "#         nlayers=nlayers,\n",
    "#         ridge=True,\n",
    "#         nx = nx,\n",
    "#         ny = ny,\n",
    "#         )\n",
    "   \n",
    "# al.save_inputdata(\n",
    "#     x,\n",
    "#     y,\n",
    "#     STRESS_X,\n",
    "#     STRESS_X * 0,\n",
    "#     eta_ridge,\n",
    "#     \"common\",\n",
    "#     save_wind = False\n",
    "#     )\n"
   ]
  },
  {
   "cell_type": "code",
   "execution_count": 3,
   "metadata": {},
   "outputs": [
    {
     "name": "stdout",
     "output_type": "stream",
     "text": [
      "RUNNING: common_common\n",
      "laboratory path:  /scratch/v45/ab8992/mom6\n",
      "binary path:  /scratch/v45/ab8992/mom6/bin\n",
      "input path:  /scratch/v45/ab8992/mom6/input\n",
      "work path:  /scratch/v45/ab8992/mom6/work\n",
      "archive path:  /scratch/v45/ab8992/mom6/archive\n",
      "payu: work path already exists.\n",
      "      Sweeping as --force option is True.\n",
      "Moving log common_common.o125172139\n",
      "Moving log common_common.e125172139\n",
      "Removing work path /scratch/v45/ab8992/mom6/work/common_common\n",
      "Removing symlink /home/149/ab8992/topographic-NIWs/rundirs/common/common_common/work\n",
      "Loading input manifest: manifests/input.yaml\n",
      "Loading restart manifest: manifests/restart.yaml\n",
      "Loading exe manifest: manifests/exe.yaml\n",
      "Setting up mom6\n",
      "Checking exe and input manifests\n",
      "Updating full hashes for 1 files in manifests/exe.yaml\n",
      "Creating restart manifest\n",
      "Writing manifests/restart.yaml\n",
      "Writing manifests/exe.yaml\n",
      "125172311.gadi-pbs\n",
      "payu: warning: Job request includes 12 unused CPUs.\n",
      "payu: warning: CPU request increased from 900 to 912\n",
      "Loading input manifest: manifests/input.yaml\n",
      "Loading restart manifest: manifests/restart.yaml\n",
      "Loading exe manifest: manifests/exe.yaml\n",
      "payu: Found modules in /opt/Modules/v4.3.0\n",
      "qsub -q normal -P x77 -l walltime=21600 -l ncpus=912 -l mem=3648GB -N common_common -l wd -j n -v PAYU_PATH=/g/data/hh5/public/apps/miniconda3/envs/analysis3/bin,PAYU_FORCE=True,MODULESHOME=/opt/Modules/v4.3.0,MODULES_CMD=/opt/Modules/v4.3.0/libexec/modulecmd.tcl,MODULEPATH=/etc/scl/modulefiles:/opt/Modules/modulefiles:/opt/Modules/v4.3.0/modulefiles:/apps/Modules/modulefiles -W umask=027 -l storage=gdata/hh5+gdata/v45+scratch/v45 -- /g/data/hh5/public/apps/miniconda3/envs/analysis3-24.04/bin/python3.10 /g/data/hh5/public/apps/miniconda3/envs/analysis3/bin/payu-run\n"
     ]
    }
   ],
   "source": [
    "expt = al.expt(x,y,nlayers,\"common\",\"common\",overrides=overrides)\n",
    "expt.setup()\n",
    "expt.run()"
   ]
  },
  {
   "cell_type": "code",
   "execution_count": 6,
   "metadata": {},
   "outputs": [
    {
     "name": "stdout",
     "output_type": "stream",
     "text": [
      "Total outputs: 10\n"
     ]
    },
    {
     "name": "stderr",
     "output_type": "stream",
     "text": [
      "Traceback (most recent call last):\n",
      "  File \"/g/data/hh5/public/apps/miniconda3/envs/analysis3/bin/payu\", line 10, in <module>\n",
      "    sys.exit(parse())\n",
      "  File \"/g/data/hh5/public/apps/miniconda3/envs/analysis3-24.04/lib/python3.10/site-packages/payu/cli.py\", line 42, in parse\n",
      "    run_cmd(**args)\n",
      "  File \"/g/data/hh5/public/apps/miniconda3/envs/analysis3-24.04/lib/python3.10/site-packages/payu/subcommands/run_cmd.py\", line 24, in runcmd\n",
      "    pbs_vars = cli.set_env_vars(init_run=init_run,\n",
      "  File \"/g/data/hh5/public/apps/miniconda3/envs/analysis3-24.04/lib/python3.10/site-packages/payu/cli.py\", line 122, in set_env_vars\n",
      "    assert n_runs > 0\n",
      "AssertionError\n"
     ]
    },
    {
     "name": "stdout",
     "output_type": "stream",
     "text": [
      "Total outputs: 10\n"
     ]
    },
    {
     "name": "stderr",
     "output_type": "stream",
     "text": [
      "Traceback (most recent call last):\n",
      "  File \"/g/data/hh5/public/apps/miniconda3/envs/analysis3/bin/payu\", line 10, in <module>\n",
      "    sys.exit(parse())\n",
      "  File \"/g/data/hh5/public/apps/miniconda3/envs/analysis3-24.04/lib/python3.10/site-packages/payu/cli.py\", line 42, in parse\n",
      "    run_cmd(**args)\n",
      "  File \"/g/data/hh5/public/apps/miniconda3/envs/analysis3-24.04/lib/python3.10/site-packages/payu/subcommands/run_cmd.py\", line 24, in runcmd\n",
      "    pbs_vars = cli.set_env_vars(init_run=init_run,\n",
      "  File \"/g/data/hh5/public/apps/miniconda3/envs/analysis3-24.04/lib/python3.10/site-packages/payu/cli.py\", line 122, in set_env_vars\n",
      "    assert n_runs > 0\n",
      "AssertionError\n"
     ]
    },
    {
     "name": "stdout",
     "output_type": "stream",
     "text": [
      "Total outputs: 10\n"
     ]
    },
    {
     "name": "stderr",
     "output_type": "stream",
     "text": [
      "Traceback (most recent call last):\n",
      "  File \"/g/data/hh5/public/apps/miniconda3/envs/analysis3/bin/payu\", line 10, in <module>\n",
      "    sys.exit(parse())\n",
      "  File \"/g/data/hh5/public/apps/miniconda3/envs/analysis3-24.04/lib/python3.10/site-packages/payu/cli.py\", line 42, in parse\n",
      "    run_cmd(**args)\n",
      "  File \"/g/data/hh5/public/apps/miniconda3/envs/analysis3-24.04/lib/python3.10/site-packages/payu/subcommands/run_cmd.py\", line 24, in runcmd\n",
      "    pbs_vars = cli.set_env_vars(init_run=init_run,\n",
      "  File \"/g/data/hh5/public/apps/miniconda3/envs/analysis3-24.04/lib/python3.10/site-packages/payu/cli.py\", line 122, in set_env_vars\n",
      "    assert n_runs > 0\n",
      "AssertionError\n"
     ]
    },
    {
     "name": "stdout",
     "output_type": "stream",
     "text": [
      "Total outputs: 10\n"
     ]
    },
    {
     "name": "stderr",
     "output_type": "stream",
     "text": [
      "Traceback (most recent call last):\n",
      "  File \"/g/data/hh5/public/apps/miniconda3/envs/analysis3/bin/payu\", line 10, in <module>\n",
      "    sys.exit(parse())\n",
      "  File \"/g/data/hh5/public/apps/miniconda3/envs/analysis3-24.04/lib/python3.10/site-packages/payu/cli.py\", line 42, in parse\n",
      "    run_cmd(**args)\n",
      "  File \"/g/data/hh5/public/apps/miniconda3/envs/analysis3-24.04/lib/python3.10/site-packages/payu/subcommands/run_cmd.py\", line 24, in runcmd\n",
      "    pbs_vars = cli.set_env_vars(init_run=init_run,\n",
      "  File \"/g/data/hh5/public/apps/miniconda3/envs/analysis3-24.04/lib/python3.10/site-packages/payu/cli.py\", line 122, in set_env_vars\n",
      "    assert n_runs > 0\n",
      "AssertionError\n"
     ]
    },
    {
     "name": "stdout",
     "output_type": "stream",
     "text": [
      "Total outputs: 10\n"
     ]
    },
    {
     "name": "stderr",
     "output_type": "stream",
     "text": [
      "Traceback (most recent call last):\n",
      "  File \"/g/data/hh5/public/apps/miniconda3/envs/analysis3/bin/payu\", line 10, in <module>\n",
      "    sys.exit(parse())\n",
      "  File \"/g/data/hh5/public/apps/miniconda3/envs/analysis3-24.04/lib/python3.10/site-packages/payu/cli.py\", line 42, in parse\n",
      "    run_cmd(**args)\n",
      "  File \"/g/data/hh5/public/apps/miniconda3/envs/analysis3-24.04/lib/python3.10/site-packages/payu/subcommands/run_cmd.py\", line 24, in runcmd\n",
      "    pbs_vars = cli.set_env_vars(init_run=init_run,\n",
      "  File \"/g/data/hh5/public/apps/miniconda3/envs/analysis3-24.04/lib/python3.10/site-packages/payu/cli.py\", line 122, in set_env_vars\n",
      "    assert n_runs > 0\n",
      "AssertionError\n"
     ]
    },
    {
     "name": "stdout",
     "output_type": "stream",
     "text": [
      "Total outputs: 8\n",
      "125223530.gadi-pbs\n",
      "payu: warning: Job request includes 12 unused CPUs.\n",
      "payu: warning: CPU request increased from 900 to 912\n",
      "Loading input manifest: manifests/input.yaml\n",
      "Loading restart manifest: manifests/restart.yaml\n",
      "Loading exe manifest: manifests/exe.yaml\n",
      "payu: Found modules in /opt/Modules/v4.3.0\n",
      "qsub -q normal -P g40 -l walltime=0:30:00 -l ncpus=912 -l mem=3648GB -N height_150 -l wd -j n -v PAYU_PATH=/g/data/hh5/public/apps/miniconda3/envs/analysis3/bin,PAYU_N_RUNS=2,PAYU_FORCE=True,MODULESHOME=/opt/Modules/v4.3.0,MODULES_CMD=/opt/Modules/v4.3.0/libexec/modulecmd.tcl,MODULEPATH=/etc/scl/modulefiles:/opt/Modules/modulefiles:/opt/Modules/v4.3.0/modulefiles:/apps/Modules/modulefiles -W umask=027 -l storage=gdata/hh5+gdata/v45+scratch/v45 -- /g/data/hh5/public/apps/miniconda3/envs/analysis3-24.04/bin/python3.10 /g/data/hh5/public/apps/miniconda3/envs/analysis3/bin/payu-run\n",
      "Total outputs: 10\n"
     ]
    },
    {
     "name": "stderr",
     "output_type": "stream",
     "text": [
      "Traceback (most recent call last):\n",
      "  File \"/g/data/hh5/public/apps/miniconda3/envs/analysis3/bin/payu\", line 10, in <module>\n",
      "    sys.exit(parse())\n",
      "  File \"/g/data/hh5/public/apps/miniconda3/envs/analysis3-24.04/lib/python3.10/site-packages/payu/cli.py\", line 42, in parse\n",
      "    run_cmd(**args)\n",
      "  File \"/g/data/hh5/public/apps/miniconda3/envs/analysis3-24.04/lib/python3.10/site-packages/payu/subcommands/run_cmd.py\", line 24, in runcmd\n",
      "    pbs_vars = cli.set_env_vars(init_run=init_run,\n",
      "  File \"/g/data/hh5/public/apps/miniconda3/envs/analysis3-24.04/lib/python3.10/site-packages/payu/cli.py\", line 122, in set_env_vars\n",
      "    assert n_runs > 0\n",
      "AssertionError\n"
     ]
    },
    {
     "name": "stdout",
     "output_type": "stream",
     "text": [
      "Total outputs: 10\n"
     ]
    },
    {
     "name": "stderr",
     "output_type": "stream",
     "text": [
      "Traceback (most recent call last):\n",
      "  File \"/g/data/hh5/public/apps/miniconda3/envs/analysis3/bin/payu\", line 10, in <module>\n",
      "    sys.exit(parse())\n",
      "  File \"/g/data/hh5/public/apps/miniconda3/envs/analysis3-24.04/lib/python3.10/site-packages/payu/cli.py\", line 42, in parse\n",
      "    run_cmd(**args)\n",
      "  File \"/g/data/hh5/public/apps/miniconda3/envs/analysis3-24.04/lib/python3.10/site-packages/payu/subcommands/run_cmd.py\", line 24, in runcmd\n",
      "    pbs_vars = cli.set_env_vars(init_run=init_run,\n",
      "  File \"/g/data/hh5/public/apps/miniconda3/envs/analysis3-24.04/lib/python3.10/site-packages/payu/cli.py\", line 122, in set_env_vars\n",
      "    assert n_runs > 0\n",
      "AssertionError\n"
     ]
    },
    {
     "name": "stdout",
     "output_type": "stream",
     "text": [
      "Total outputs: 10\n"
     ]
    },
    {
     "name": "stderr",
     "output_type": "stream",
     "text": [
      "Traceback (most recent call last):\n",
      "  File \"/g/data/hh5/public/apps/miniconda3/envs/analysis3/bin/payu\", line 10, in <module>\n",
      "    sys.exit(parse())\n",
      "  File \"/g/data/hh5/public/apps/miniconda3/envs/analysis3-24.04/lib/python3.10/site-packages/payu/cli.py\", line 42, in parse\n",
      "    run_cmd(**args)\n",
      "  File \"/g/data/hh5/public/apps/miniconda3/envs/analysis3-24.04/lib/python3.10/site-packages/payu/subcommands/run_cmd.py\", line 24, in runcmd\n",
      "    pbs_vars = cli.set_env_vars(init_run=init_run,\n",
      "  File \"/g/data/hh5/public/apps/miniconda3/envs/analysis3-24.04/lib/python3.10/site-packages/payu/cli.py\", line 122, in set_env_vars\n",
      "    assert n_runs > 0\n",
      "AssertionError\n"
     ]
    },
    {
     "name": "stdout",
     "output_type": "stream",
     "text": [
      "Total outputs: 10\n"
     ]
    },
    {
     "name": "stderr",
     "output_type": "stream",
     "text": [
      "Traceback (most recent call last):\n",
      "  File \"/g/data/hh5/public/apps/miniconda3/envs/analysis3/bin/payu\", line 10, in <module>\n",
      "    sys.exit(parse())\n",
      "  File \"/g/data/hh5/public/apps/miniconda3/envs/analysis3-24.04/lib/python3.10/site-packages/payu/cli.py\", line 42, in parse\n",
      "    run_cmd(**args)\n",
      "  File \"/g/data/hh5/public/apps/miniconda3/envs/analysis3-24.04/lib/python3.10/site-packages/payu/subcommands/run_cmd.py\", line 24, in runcmd\n",
      "    pbs_vars = cli.set_env_vars(init_run=init_run,\n",
      "  File \"/g/data/hh5/public/apps/miniconda3/envs/analysis3-24.04/lib/python3.10/site-packages/payu/cli.py\", line 122, in set_env_vars\n",
      "    assert n_runs > 0\n",
      "AssertionError\n"
     ]
    },
    {
     "name": "stdout",
     "output_type": "stream",
     "text": [
      "Total outputs: 10\n"
     ]
    },
    {
     "name": "stderr",
     "output_type": "stream",
     "text": [
      "Traceback (most recent call last):\n",
      "  File \"/g/data/hh5/public/apps/miniconda3/envs/analysis3/bin/payu\", line 10, in <module>\n",
      "    sys.exit(parse())\n",
      "  File \"/g/data/hh5/public/apps/miniconda3/envs/analysis3-24.04/lib/python3.10/site-packages/payu/cli.py\", line 42, in parse\n",
      "    run_cmd(**args)\n",
      "  File \"/g/data/hh5/public/apps/miniconda3/envs/analysis3-24.04/lib/python3.10/site-packages/payu/subcommands/run_cmd.py\", line 24, in runcmd\n",
      "    pbs_vars = cli.set_env_vars(init_run=init_run,\n",
      "  File \"/g/data/hh5/public/apps/miniconda3/envs/analysis3-24.04/lib/python3.10/site-packages/payu/cli.py\", line 122, in set_env_vars\n",
      "    assert n_runs > 0\n",
      "AssertionError\n"
     ]
    },
    {
     "name": "stdout",
     "output_type": "stream",
     "text": [
      "Total outputs: 10\n"
     ]
    },
    {
     "name": "stderr",
     "output_type": "stream",
     "text": [
      "Traceback (most recent call last):\n",
      "  File \"/g/data/hh5/public/apps/miniconda3/envs/analysis3/bin/payu\", line 10, in <module>\n",
      "    sys.exit(parse())\n",
      "  File \"/g/data/hh5/public/apps/miniconda3/envs/analysis3-24.04/lib/python3.10/site-packages/payu/cli.py\", line 42, in parse\n",
      "    run_cmd(**args)\n",
      "  File \"/g/data/hh5/public/apps/miniconda3/envs/analysis3-24.04/lib/python3.10/site-packages/payu/subcommands/run_cmd.py\", line 24, in runcmd\n",
      "    pbs_vars = cli.set_env_vars(init_run=init_run,\n",
      "  File \"/g/data/hh5/public/apps/miniconda3/envs/analysis3-24.04/lib/python3.10/site-packages/payu/cli.py\", line 122, in set_env_vars\n",
      "    assert n_runs > 0\n",
      "AssertionError\n"
     ]
    },
    {
     "name": "stdout",
     "output_type": "stream",
     "text": [
      "Total outputs: 10\n"
     ]
    },
    {
     "name": "stderr",
     "output_type": "stream",
     "text": [
      "Traceback (most recent call last):\n",
      "  File \"/g/data/hh5/public/apps/miniconda3/envs/analysis3/bin/payu\", line 10, in <module>\n",
      "    sys.exit(parse())\n",
      "  File \"/g/data/hh5/public/apps/miniconda3/envs/analysis3-24.04/lib/python3.10/site-packages/payu/cli.py\", line 42, in parse\n",
      "    run_cmd(**args)\n",
      "  File \"/g/data/hh5/public/apps/miniconda3/envs/analysis3-24.04/lib/python3.10/site-packages/payu/subcommands/run_cmd.py\", line 24, in runcmd\n",
      "    pbs_vars = cli.set_env_vars(init_run=init_run,\n",
      "  File \"/g/data/hh5/public/apps/miniconda3/envs/analysis3-24.04/lib/python3.10/site-packages/payu/cli.py\", line 122, in set_env_vars\n",
      "    assert n_runs > 0\n",
      "AssertionError\n"
     ]
    },
    {
     "name": "stdout",
     "output_type": "stream",
     "text": [
      "Total outputs: 10\n"
     ]
    },
    {
     "name": "stderr",
     "output_type": "stream",
     "text": [
      "Traceback (most recent call last):\n",
      "  File \"/g/data/hh5/public/apps/miniconda3/envs/analysis3/bin/payu\", line 10, in <module>\n",
      "    sys.exit(parse())\n",
      "  File \"/g/data/hh5/public/apps/miniconda3/envs/analysis3-24.04/lib/python3.10/site-packages/payu/cli.py\", line 42, in parse\n",
      "    run_cmd(**args)\n",
      "  File \"/g/data/hh5/public/apps/miniconda3/envs/analysis3-24.04/lib/python3.10/site-packages/payu/subcommands/run_cmd.py\", line 24, in runcmd\n",
      "    pbs_vars = cli.set_env_vars(init_run=init_run,\n",
      "  File \"/g/data/hh5/public/apps/miniconda3/envs/analysis3-24.04/lib/python3.10/site-packages/payu/cli.py\", line 122, in set_env_vars\n",
      "    assert n_runs > 0\n",
      "AssertionError\n"
     ]
    },
    {
     "name": "stdout",
     "output_type": "stream",
     "text": [
      "Total outputs: 10\n"
     ]
    },
    {
     "name": "stderr",
     "output_type": "stream",
     "text": [
      "Traceback (most recent call last):\n",
      "  File \"/g/data/hh5/public/apps/miniconda3/envs/analysis3/bin/payu\", line 10, in <module>\n",
      "    sys.exit(parse())\n",
      "  File \"/g/data/hh5/public/apps/miniconda3/envs/analysis3-24.04/lib/python3.10/site-packages/payu/cli.py\", line 42, in parse\n",
      "    run_cmd(**args)\n",
      "  File \"/g/data/hh5/public/apps/miniconda3/envs/analysis3-24.04/lib/python3.10/site-packages/payu/subcommands/run_cmd.py\", line 24, in runcmd\n",
      "    pbs_vars = cli.set_env_vars(init_run=init_run,\n",
      "  File \"/g/data/hh5/public/apps/miniconda3/envs/analysis3-24.04/lib/python3.10/site-packages/payu/cli.py\", line 122, in set_env_vars\n",
      "    assert n_runs > 0\n",
      "AssertionError\n"
     ]
    },
    {
     "name": "stdout",
     "output_type": "stream",
     "text": [
      "Total outputs: 6\n",
      "125223532.gadi-pbs\n",
      "payu: warning: Job request includes 12 unused CPUs.\n",
      "payu: warning: CPU request increased from 900 to 912\n",
      "Loading input manifest: manifests/input.yaml\n",
      "Loading restart manifest: manifests/restart.yaml\n",
      "Loading exe manifest: manifests/exe.yaml\n",
      "payu: Found modules in /opt/Modules/v4.3.0\n",
      "qsub -q normal -P g40 -l walltime=0:30:00 -l ncpus=912 -l mem=3648GB -N height_1250 -l wd -j n -v PAYU_PATH=/g/data/hh5/public/apps/miniconda3/envs/analysis3/bin,PAYU_N_RUNS=4,PAYU_FORCE=True,MODULESHOME=/opt/Modules/v4.3.0,MODULES_CMD=/opt/Modules/v4.3.0/libexec/modulecmd.tcl,MODULEPATH=/etc/scl/modulefiles:/opt/Modules/modulefiles:/opt/Modules/v4.3.0/modulefiles:/apps/Modules/modulefiles -W umask=027 -l storage=gdata/hh5+gdata/v45+scratch/v45 -- /g/data/hh5/public/apps/miniconda3/envs/analysis3-24.04/bin/python3.10 /g/data/hh5/public/apps/miniconda3/envs/analysis3/bin/payu-run\n",
      "Total outputs: 10\n"
     ]
    },
    {
     "name": "stderr",
     "output_type": "stream",
     "text": [
      "Traceback (most recent call last):\n",
      "  File \"/g/data/hh5/public/apps/miniconda3/envs/analysis3/bin/payu\", line 10, in <module>\n",
      "    sys.exit(parse())\n",
      "  File \"/g/data/hh5/public/apps/miniconda3/envs/analysis3-24.04/lib/python3.10/site-packages/payu/cli.py\", line 42, in parse\n",
      "    run_cmd(**args)\n",
      "  File \"/g/data/hh5/public/apps/miniconda3/envs/analysis3-24.04/lib/python3.10/site-packages/payu/subcommands/run_cmd.py\", line 24, in runcmd\n",
      "    pbs_vars = cli.set_env_vars(init_run=init_run,\n",
      "  File \"/g/data/hh5/public/apps/miniconda3/envs/analysis3-24.04/lib/python3.10/site-packages/payu/cli.py\", line 122, in set_env_vars\n",
      "    assert n_runs > 0\n",
      "AssertionError\n"
     ]
    },
    {
     "name": "stdout",
     "output_type": "stream",
     "text": [
      "Total outputs: 10\n"
     ]
    },
    {
     "name": "stderr",
     "output_type": "stream",
     "text": [
      "Traceback (most recent call last):\n",
      "  File \"/g/data/hh5/public/apps/miniconda3/envs/analysis3/bin/payu\", line 10, in <module>\n",
      "    sys.exit(parse())\n",
      "  File \"/g/data/hh5/public/apps/miniconda3/envs/analysis3-24.04/lib/python3.10/site-packages/payu/cli.py\", line 42, in parse\n",
      "    run_cmd(**args)\n",
      "  File \"/g/data/hh5/public/apps/miniconda3/envs/analysis3-24.04/lib/python3.10/site-packages/payu/subcommands/run_cmd.py\", line 24, in runcmd\n",
      "    pbs_vars = cli.set_env_vars(init_run=init_run,\n",
      "  File \"/g/data/hh5/public/apps/miniconda3/envs/analysis3-24.04/lib/python3.10/site-packages/payu/cli.py\", line 122, in set_env_vars\n",
      "    assert n_runs > 0\n",
      "AssertionError\n"
     ]
    }
   ],
   "source": [
    "import subprocess\n",
    "# heights = [10]\n",
    "for height in heights:\n",
    "    expt = al.expt(x,y,nlayers,\"height\",height,overrides=overrides)\n",
    "    # expt.make_inputs()\n",
    "    # expt.setup()\n",
    "    # path = al.basepath / \"rundirs\" / expt.variable / f\"{expt.variable}_{expt.var_value}\"\n",
    "    # expt.run()\n",
    "    expt.resume()"
   ]
  },
  {
   "cell_type": "code",
   "execution_count": 14,
   "metadata": {},
   "outputs": [
    {
     "name": "stdout",
     "output_type": "stream",
     "text": [
      "Total outputs: 11\n"
     ]
    },
    {
     "name": "stderr",
     "output_type": "stream",
     "text": [
      "Traceback (most recent call last):\n",
      "  File \"/g/data/hh5/public/apps/miniconda3/envs/analysis3/bin/payu\", line 10, in <module>\n",
      "    sys.exit(parse())\n",
      "  File \"/g/data/hh5/public/apps/miniconda3/envs/analysis3-24.04/lib/python3.10/site-packages/payu/cli.py\", line 42, in parse\n",
      "    run_cmd(**args)\n",
      "  File \"/g/data/hh5/public/apps/miniconda3/envs/analysis3-24.04/lib/python3.10/site-packages/payu/subcommands/run_cmd.py\", line 24, in runcmd\n",
      "    pbs_vars = cli.set_env_vars(init_run=init_run,\n",
      "  File \"/g/data/hh5/public/apps/miniconda3/envs/analysis3-24.04/lib/python3.10/site-packages/payu/cli.py\", line 122, in set_env_vars\n",
      "    assert n_runs > 0\n",
      "AssertionError\n"
     ]
    },
    {
     "name": "stdout",
     "output_type": "stream",
     "text": [
      "Total outputs: 11\n"
     ]
    },
    {
     "name": "stderr",
     "output_type": "stream",
     "text": [
      "Traceback (most recent call last):\n",
      "  File \"/g/data/hh5/public/apps/miniconda3/envs/analysis3/bin/payu\", line 10, in <module>\n",
      "    sys.exit(parse())\n",
      "  File \"/g/data/hh5/public/apps/miniconda3/envs/analysis3-24.04/lib/python3.10/site-packages/payu/cli.py\", line 42, in parse\n",
      "    run_cmd(**args)\n",
      "  File \"/g/data/hh5/public/apps/miniconda3/envs/analysis3-24.04/lib/python3.10/site-packages/payu/subcommands/run_cmd.py\", line 24, in runcmd\n",
      "    pbs_vars = cli.set_env_vars(init_run=init_run,\n",
      "  File \"/g/data/hh5/public/apps/miniconda3/envs/analysis3-24.04/lib/python3.10/site-packages/payu/cli.py\", line 122, in set_env_vars\n",
      "    assert n_runs > 0\n",
      "AssertionError\n"
     ]
    },
    {
     "name": "stdout",
     "output_type": "stream",
     "text": [
      "Total outputs: 11\n"
     ]
    },
    {
     "name": "stderr",
     "output_type": "stream",
     "text": [
      "Traceback (most recent call last):\n",
      "  File \"/g/data/hh5/public/apps/miniconda3/envs/analysis3/bin/payu\", line 10, in <module>\n",
      "    sys.exit(parse())\n",
      "  File \"/g/data/hh5/public/apps/miniconda3/envs/analysis3-24.04/lib/python3.10/site-packages/payu/cli.py\", line 42, in parse\n",
      "    run_cmd(**args)\n",
      "  File \"/g/data/hh5/public/apps/miniconda3/envs/analysis3-24.04/lib/python3.10/site-packages/payu/subcommands/run_cmd.py\", line 24, in runcmd\n",
      "    pbs_vars = cli.set_env_vars(init_run=init_run,\n",
      "  File \"/g/data/hh5/public/apps/miniconda3/envs/analysis3-24.04/lib/python3.10/site-packages/payu/cli.py\", line 122, in set_env_vars\n",
      "    assert n_runs > 0\n",
      "AssertionError\n"
     ]
    },
    {
     "name": "stdout",
     "output_type": "stream",
     "text": [
      "Total outputs: 11\n"
     ]
    },
    {
     "name": "stderr",
     "output_type": "stream",
     "text": [
      "Traceback (most recent call last):\n",
      "  File \"/g/data/hh5/public/apps/miniconda3/envs/analysis3/bin/payu\", line 10, in <module>\n",
      "    sys.exit(parse())\n",
      "  File \"/g/data/hh5/public/apps/miniconda3/envs/analysis3-24.04/lib/python3.10/site-packages/payu/cli.py\", line 42, in parse\n",
      "    run_cmd(**args)\n",
      "  File \"/g/data/hh5/public/apps/miniconda3/envs/analysis3-24.04/lib/python3.10/site-packages/payu/subcommands/run_cmd.py\", line 24, in runcmd\n",
      "    pbs_vars = cli.set_env_vars(init_run=init_run,\n",
      "  File \"/g/data/hh5/public/apps/miniconda3/envs/analysis3-24.04/lib/python3.10/site-packages/payu/cli.py\", line 122, in set_env_vars\n",
      "    assert n_runs > 0\n",
      "AssertionError\n"
     ]
    },
    {
     "name": "stdout",
     "output_type": "stream",
     "text": [
      "Total outputs: 11\n"
     ]
    },
    {
     "name": "stderr",
     "output_type": "stream",
     "text": [
      "Traceback (most recent call last):\n",
      "  File \"/g/data/hh5/public/apps/miniconda3/envs/analysis3/bin/payu\", line 10, in <module>\n",
      "    sys.exit(parse())\n",
      "  File \"/g/data/hh5/public/apps/miniconda3/envs/analysis3-24.04/lib/python3.10/site-packages/payu/cli.py\", line 42, in parse\n",
      "    run_cmd(**args)\n",
      "  File \"/g/data/hh5/public/apps/miniconda3/envs/analysis3-24.04/lib/python3.10/site-packages/payu/subcommands/run_cmd.py\", line 24, in runcmd\n",
      "    pbs_vars = cli.set_env_vars(init_run=init_run,\n",
      "  File \"/g/data/hh5/public/apps/miniconda3/envs/analysis3-24.04/lib/python3.10/site-packages/payu/cli.py\", line 122, in set_env_vars\n",
      "    assert n_runs > 0\n",
      "AssertionError\n"
     ]
    },
    {
     "name": "stdout",
     "output_type": "stream",
     "text": [
      "Total outputs: 11\n"
     ]
    },
    {
     "name": "stderr",
     "output_type": "stream",
     "text": [
      "Traceback (most recent call last):\n",
      "  File \"/g/data/hh5/public/apps/miniconda3/envs/analysis3/bin/payu\", line 10, in <module>\n",
      "    sys.exit(parse())\n",
      "  File \"/g/data/hh5/public/apps/miniconda3/envs/analysis3-24.04/lib/python3.10/site-packages/payu/cli.py\", line 42, in parse\n",
      "    run_cmd(**args)\n",
      "  File \"/g/data/hh5/public/apps/miniconda3/envs/analysis3-24.04/lib/python3.10/site-packages/payu/subcommands/run_cmd.py\", line 24, in runcmd\n",
      "    pbs_vars = cli.set_env_vars(init_run=init_run,\n",
      "  File \"/g/data/hh5/public/apps/miniconda3/envs/analysis3-24.04/lib/python3.10/site-packages/payu/cli.py\", line 122, in set_env_vars\n",
      "    assert n_runs > 0\n",
      "AssertionError\n"
     ]
    },
    {
     "name": "stdout",
     "output_type": "stream",
     "text": [
      "Total outputs: 10\n"
     ]
    },
    {
     "name": "stderr",
     "output_type": "stream",
     "text": [
      "Traceback (most recent call last):\n",
      "  File \"/g/data/hh5/public/apps/miniconda3/envs/analysis3/bin/payu\", line 10, in <module>\n",
      "    sys.exit(parse())\n",
      "  File \"/g/data/hh5/public/apps/miniconda3/envs/analysis3-24.04/lib/python3.10/site-packages/payu/cli.py\", line 42, in parse\n",
      "    run_cmd(**args)\n",
      "  File \"/g/data/hh5/public/apps/miniconda3/envs/analysis3-24.04/lib/python3.10/site-packages/payu/subcommands/run_cmd.py\", line 24, in runcmd\n",
      "    pbs_vars = cli.set_env_vars(init_run=init_run,\n",
      "  File \"/g/data/hh5/public/apps/miniconda3/envs/analysis3-24.04/lib/python3.10/site-packages/payu/cli.py\", line 122, in set_env_vars\n",
      "    assert n_runs > 0\n",
      "AssertionError\n"
     ]
    },
    {
     "name": "stdout",
     "output_type": "stream",
     "text": [
      "Total outputs: 10\n"
     ]
    },
    {
     "name": "stderr",
     "output_type": "stream",
     "text": [
      "Traceback (most recent call last):\n",
      "  File \"/g/data/hh5/public/apps/miniconda3/envs/analysis3/bin/payu\", line 10, in <module>\n",
      "    sys.exit(parse())\n",
      "  File \"/g/data/hh5/public/apps/miniconda3/envs/analysis3-24.04/lib/python3.10/site-packages/payu/cli.py\", line 42, in parse\n",
      "    run_cmd(**args)\n",
      "  File \"/g/data/hh5/public/apps/miniconda3/envs/analysis3-24.04/lib/python3.10/site-packages/payu/subcommands/run_cmd.py\", line 24, in runcmd\n",
      "    pbs_vars = cli.set_env_vars(init_run=init_run,\n",
      "  File \"/g/data/hh5/public/apps/miniconda3/envs/analysis3-24.04/lib/python3.10/site-packages/payu/cli.py\", line 122, in set_env_vars\n",
      "    assert n_runs > 0\n",
      "AssertionError\n"
     ]
    },
    {
     "name": "stdout",
     "output_type": "stream",
     "text": [
      "Total outputs: 10\n"
     ]
    },
    {
     "name": "stderr",
     "output_type": "stream",
     "text": [
      "Traceback (most recent call last):\n",
      "  File \"/g/data/hh5/public/apps/miniconda3/envs/analysis3/bin/payu\", line 10, in <module>\n",
      "    sys.exit(parse())\n",
      "  File \"/g/data/hh5/public/apps/miniconda3/envs/analysis3-24.04/lib/python3.10/site-packages/payu/cli.py\", line 42, in parse\n",
      "    run_cmd(**args)\n",
      "  File \"/g/data/hh5/public/apps/miniconda3/envs/analysis3-24.04/lib/python3.10/site-packages/payu/subcommands/run_cmd.py\", line 24, in runcmd\n",
      "    pbs_vars = cli.set_env_vars(init_run=init_run,\n",
      "  File \"/g/data/hh5/public/apps/miniconda3/envs/analysis3-24.04/lib/python3.10/site-packages/payu/cli.py\", line 122, in set_env_vars\n",
      "    assert n_runs > 0\n",
      "AssertionError\n"
     ]
    },
    {
     "name": "stdout",
     "output_type": "stream",
     "text": [
      "Total outputs: 10\n"
     ]
    },
    {
     "name": "stderr",
     "output_type": "stream",
     "text": [
      "Traceback (most recent call last):\n",
      "  File \"/g/data/hh5/public/apps/miniconda3/envs/analysis3/bin/payu\", line 10, in <module>\n",
      "    sys.exit(parse())\n",
      "  File \"/g/data/hh5/public/apps/miniconda3/envs/analysis3-24.04/lib/python3.10/site-packages/payu/cli.py\", line 42, in parse\n",
      "    run_cmd(**args)\n",
      "  File \"/g/data/hh5/public/apps/miniconda3/envs/analysis3-24.04/lib/python3.10/site-packages/payu/subcommands/run_cmd.py\", line 24, in runcmd\n",
      "    pbs_vars = cli.set_env_vars(init_run=init_run,\n",
      "  File \"/g/data/hh5/public/apps/miniconda3/envs/analysis3-24.04/lib/python3.10/site-packages/payu/cli.py\", line 122, in set_env_vars\n",
      "    assert n_runs > 0\n",
      "AssertionError\n"
     ]
    },
    {
     "name": "stdout",
     "output_type": "stream",
     "text": [
      "Total outputs: 10\n"
     ]
    },
    {
     "name": "stderr",
     "output_type": "stream",
     "text": [
      "Traceback (most recent call last):\n",
      "  File \"/g/data/hh5/public/apps/miniconda3/envs/analysis3/bin/payu\", line 10, in <module>\n",
      "    sys.exit(parse())\n",
      "  File \"/g/data/hh5/public/apps/miniconda3/envs/analysis3-24.04/lib/python3.10/site-packages/payu/cli.py\", line 42, in parse\n",
      "    run_cmd(**args)\n",
      "  File \"/g/data/hh5/public/apps/miniconda3/envs/analysis3-24.04/lib/python3.10/site-packages/payu/subcommands/run_cmd.py\", line 24, in runcmd\n",
      "    pbs_vars = cli.set_env_vars(init_run=init_run,\n",
      "  File \"/g/data/hh5/public/apps/miniconda3/envs/analysis3-24.04/lib/python3.10/site-packages/payu/cli.py\", line 122, in set_env_vars\n",
      "    assert n_runs > 0\n",
      "AssertionError\n"
     ]
    },
    {
     "name": "stdout",
     "output_type": "stream",
     "text": [
      "Total outputs: 10\n"
     ]
    },
    {
     "name": "stderr",
     "output_type": "stream",
     "text": [
      "Traceback (most recent call last):\n",
      "  File \"/g/data/hh5/public/apps/miniconda3/envs/analysis3/bin/payu\", line 10, in <module>\n",
      "    sys.exit(parse())\n",
      "  File \"/g/data/hh5/public/apps/miniconda3/envs/analysis3-24.04/lib/python3.10/site-packages/payu/cli.py\", line 42, in parse\n",
      "    run_cmd(**args)\n",
      "  File \"/g/data/hh5/public/apps/miniconda3/envs/analysis3-24.04/lib/python3.10/site-packages/payu/subcommands/run_cmd.py\", line 24, in runcmd\n",
      "    pbs_vars = cli.set_env_vars(init_run=init_run,\n",
      "  File \"/g/data/hh5/public/apps/miniconda3/envs/analysis3-24.04/lib/python3.10/site-packages/payu/cli.py\", line 122, in set_env_vars\n",
      "    assert n_runs > 0\n",
      "AssertionError\n"
     ]
    },
    {
     "name": "stdout",
     "output_type": "stream",
     "text": [
      "Total outputs: 10\n"
     ]
    },
    {
     "name": "stderr",
     "output_type": "stream",
     "text": [
      "Traceback (most recent call last):\n",
      "  File \"/g/data/hh5/public/apps/miniconda3/envs/analysis3/bin/payu\", line 10, in <module>\n",
      "    sys.exit(parse())\n",
      "  File \"/g/data/hh5/public/apps/miniconda3/envs/analysis3-24.04/lib/python3.10/site-packages/payu/cli.py\", line 42, in parse\n",
      "    run_cmd(**args)\n",
      "  File \"/g/data/hh5/public/apps/miniconda3/envs/analysis3-24.04/lib/python3.10/site-packages/payu/subcommands/run_cmd.py\", line 24, in runcmd\n",
      "    pbs_vars = cli.set_env_vars(init_run=init_run,\n",
      "  File \"/g/data/hh5/public/apps/miniconda3/envs/analysis3-24.04/lib/python3.10/site-packages/payu/cli.py\", line 122, in set_env_vars\n",
      "    assert n_runs > 0\n",
      "AssertionError\n"
     ]
    },
    {
     "name": "stdout",
     "output_type": "stream",
     "text": [
      "Total outputs: 9\n",
      "125224117.gadi-pbs\n",
      "payu: warning: Job request includes 12 unused CPUs.\n",
      "payu: warning: CPU request increased from 900 to 912\n",
      "Loading input manifest: manifests/input.yaml\n",
      "Loading restart manifest: manifests/restart.yaml\n",
      "Loading exe manifest: manifests/exe.yaml\n",
      "payu: Found modules in /opt/Modules/v4.3.0\n",
      "qsub -q normal -P g40 -l walltime=3600 -l ncpus=912 -l mem=3648GB -N duration_7.5 -l wd -j n -v PAYU_PATH=/g/data/hh5/public/apps/miniconda3/envs/analysis3/bin,PAYU_N_RUNS=1,PAYU_FORCE=True,MODULESHOME=/opt/Modules/v4.3.0,MODULES_CMD=/opt/Modules/v4.3.0/libexec/modulecmd.tcl,MODULEPATH=/etc/scl/modulefiles:/opt/Modules/modulefiles:/opt/Modules/v4.3.0/modulefiles:/apps/Modules/modulefiles -W umask=027 -l storage=gdata/hh5+gdata/v45+scratch/v45 -- /g/data/hh5/public/apps/miniconda3/envs/analysis3-24.04/bin/python3.10 /g/data/hh5/public/apps/miniconda3/envs/analysis3/bin/payu-run\n",
      "Total outputs: 9\n",
      "125224118.gadi-pbs\n",
      "payu: warning: Job request includes 12 unused CPUs.\n",
      "payu: warning: CPU request increased from 900 to 912\n",
      "Loading input manifest: manifests/input.yaml\n",
      "Loading restart manifest: manifests/restart.yaml\n",
      "Loading exe manifest: manifests/exe.yaml\n",
      "payu: Found modules in /opt/Modules/v4.3.0\n",
      "qsub -q normal -P g40 -l walltime=3600 -l ncpus=912 -l mem=3648GB -N duration_8.0 -l wd -j n -v PAYU_PATH=/g/data/hh5/public/apps/miniconda3/envs/analysis3/bin,PAYU_N_RUNS=1,PAYU_FORCE=True,MODULESHOME=/opt/Modules/v4.3.0,MODULES_CMD=/opt/Modules/v4.3.0/libexec/modulecmd.tcl,MODULEPATH=/etc/scl/modulefiles:/opt/Modules/modulefiles:/opt/Modules/v4.3.0/modulefiles:/apps/Modules/modulefiles -W umask=027 -l storage=gdata/hh5+gdata/v45+scratch/v45 -- /g/data/hh5/public/apps/miniconda3/envs/analysis3-24.04/bin/python3.10 /g/data/hh5/public/apps/miniconda3/envs/analysis3/bin/payu-run\n",
      "Total outputs: 9\n",
      "125224119.gadi-pbs\n",
      "payu: warning: Job request includes 12 unused CPUs.\n",
      "payu: warning: CPU request increased from 900 to 912\n",
      "Loading input manifest: manifests/input.yaml\n",
      "Loading restart manifest: manifests/restart.yaml\n",
      "Loading exe manifest: manifests/exe.yaml\n",
      "payu: Found modules in /opt/Modules/v4.3.0\n",
      "qsub -q normal -P g40 -l walltime=3600 -l ncpus=912 -l mem=3648GB -N duration_8.5 -l wd -j n -v PAYU_PATH=/g/data/hh5/public/apps/miniconda3/envs/analysis3/bin,PAYU_N_RUNS=1,PAYU_FORCE=True,MODULESHOME=/opt/Modules/v4.3.0,MODULES_CMD=/opt/Modules/v4.3.0/libexec/modulecmd.tcl,MODULEPATH=/etc/scl/modulefiles:/opt/Modules/modulefiles:/opt/Modules/v4.3.0/modulefiles:/apps/Modules/modulefiles -W umask=027 -l storage=gdata/hh5+gdata/v45+scratch/v45 -- /g/data/hh5/public/apps/miniconda3/envs/analysis3-24.04/bin/python3.10 /g/data/hh5/public/apps/miniconda3/envs/analysis3/bin/payu-run\n",
      "Total outputs: 9\n",
      "125224120.gadi-pbs\n",
      "payu: warning: Job request includes 12 unused CPUs.\n",
      "payu: warning: CPU request increased from 900 to 912\n",
      "Loading input manifest: manifests/input.yaml\n",
      "Loading restart manifest: manifests/restart.yaml\n",
      "Loading exe manifest: manifests/exe.yaml\n",
      "payu: Found modules in /opt/Modules/v4.3.0\n",
      "qsub -q normal -P g40 -l walltime=3600 -l ncpus=912 -l mem=3648GB -N duration_9.0 -l wd -j n -v PAYU_PATH=/g/data/hh5/public/apps/miniconda3/envs/analysis3/bin,PAYU_N_RUNS=1,PAYU_FORCE=True,MODULESHOME=/opt/Modules/v4.3.0,MODULES_CMD=/opt/Modules/v4.3.0/libexec/modulecmd.tcl,MODULEPATH=/etc/scl/modulefiles:/opt/Modules/modulefiles:/opt/Modules/v4.3.0/modulefiles:/apps/Modules/modulefiles -W umask=027 -l storage=gdata/hh5+gdata/v45+scratch/v45 -- /g/data/hh5/public/apps/miniconda3/envs/analysis3-24.04/bin/python3.10 /g/data/hh5/public/apps/miniconda3/envs/analysis3/bin/payu-run\n",
      "Total outputs: 9\n",
      "125224121.gadi-pbs\n",
      "payu: warning: Job request includes 12 unused CPUs.\n",
      "payu: warning: CPU request increased from 900 to 912\n",
      "Loading input manifest: manifests/input.yaml\n",
      "Loading restart manifest: manifests/restart.yaml\n",
      "Loading exe manifest: manifests/exe.yaml\n",
      "payu: Found modules in /opt/Modules/v4.3.0\n",
      "qsub -q normal -P g40 -l walltime=3600 -l ncpus=912 -l mem=3648GB -N duration_9.5 -l wd -j n -v PAYU_PATH=/g/data/hh5/public/apps/miniconda3/envs/analysis3/bin,PAYU_N_RUNS=1,PAYU_FORCE=True,MODULESHOME=/opt/Modules/v4.3.0,MODULES_CMD=/opt/Modules/v4.3.0/libexec/modulecmd.tcl,MODULEPATH=/etc/scl/modulefiles:/opt/Modules/modulefiles:/opt/Modules/v4.3.0/modulefiles:/apps/Modules/modulefiles -W umask=027 -l storage=gdata/hh5+gdata/v45+scratch/v45 -- /g/data/hh5/public/apps/miniconda3/envs/analysis3-24.04/bin/python3.10 /g/data/hh5/public/apps/miniconda3/envs/analysis3/bin/payu-run\n",
      "Total outputs: 8\n",
      "125224122.gadi-pbs\n",
      "payu: warning: Job request includes 12 unused CPUs.\n",
      "payu: warning: CPU request increased from 900 to 912\n",
      "Loading input manifest: manifests/input.yaml\n",
      "Loading restart manifest: manifests/restart.yaml\n",
      "Loading exe manifest: manifests/exe.yaml\n",
      "payu: Found modules in /opt/Modules/v4.3.0\n",
      "qsub -q normal -P g40 -l walltime=3600 -l ncpus=912 -l mem=3648GB -N duration_10.0 -l wd -j n -v PAYU_PATH=/g/data/hh5/public/apps/miniconda3/envs/analysis3/bin,PAYU_N_RUNS=2,PAYU_FORCE=True,MODULESHOME=/opt/Modules/v4.3.0,MODULES_CMD=/opt/Modules/v4.3.0/libexec/modulecmd.tcl,MODULEPATH=/etc/scl/modulefiles:/opt/Modules/modulefiles:/opt/Modules/v4.3.0/modulefiles:/apps/Modules/modulefiles -W umask=027 -l storage=gdata/hh5+gdata/v45+scratch/v45 -- /g/data/hh5/public/apps/miniconda3/envs/analysis3-24.04/bin/python3.10 /g/data/hh5/public/apps/miniconda3/envs/analysis3/bin/payu-run\n"
     ]
    }
   ],
   "source": [
    "for duration in durations:\n",
    "    expt = al.expt(x,y,nlayers,\"duration\",duration,overrides=overrides)\n",
    "    # expt.make_inputs()\n",
    "    # expt.setup()\n",
    "    # path = al.basepath / \"rundirs\" / expt.variable / f\"{expt.variable}_{expt.var_value}\"\n",
    "    # al.overwrite_in_file(\n",
    "    #     str(path / \"input.nml\"),\n",
    "    #     \"    hours = \",\n",
    "    #     f\"    hours = {int(2 * duration)}\"\n",
    "\n",
    "    # )\n",
    "    # expt.run()\n",
    "    expt.resume()\n",
    "    \n",
    "\n",
    "\n"
   ]
  },
  {
   "cell_type": "code",
   "execution_count": 7,
   "metadata": {},
   "outputs": [
    {
     "name": "stdout",
     "output_type": "stream",
     "text": [
      "Total outputs: 0\n",
      "125223537.gadi-pbs\n",
      "payu: warning: Job request includes 12 unused CPUs.\n",
      "payu: warning: CPU request increased from 900 to 912\n",
      "Loading input manifest: manifests/input.yaml\n",
      "Loading restart manifest: manifests/restart.yaml\n",
      "Loading exe manifest: manifests/exe.yaml\n",
      "payu: Found modules in /opt/Modules/v4.3.0\n",
      "qsub -q normal -P ol01 -l walltime=01:00:00 -l ncpus=912 -l mem=3648GB -N strength_0 -l wd -j n -v PAYU_PATH=/g/data/hh5/public/apps/miniconda3/envs/analysis3/bin,PAYU_N_RUNS=10,PAYU_FORCE=True,MODULESHOME=/opt/Modules/v4.3.0,MODULES_CMD=/opt/Modules/v4.3.0/libexec/modulecmd.tcl,MODULEPATH=/etc/scl/modulefiles:/opt/Modules/modulefiles:/opt/Modules/v4.3.0/modulefiles:/apps/Modules/modulefiles -W umask=027 -l storage=gdata/hh5+gdata/v45+scratch/v45 -- /g/data/hh5/public/apps/miniconda3/envs/analysis3-24.04/bin/python3.10 /g/data/hh5/public/apps/miniconda3/envs/analysis3/bin/payu-run\n",
      "Total outputs: 10\n"
     ]
    },
    {
     "name": "stderr",
     "output_type": "stream",
     "text": [
      "Traceback (most recent call last):\n",
      "  File \"/g/data/hh5/public/apps/miniconda3/envs/analysis3/bin/payu\", line 10, in <module>\n",
      "    sys.exit(parse())\n",
      "  File \"/g/data/hh5/public/apps/miniconda3/envs/analysis3-24.04/lib/python3.10/site-packages/payu/cli.py\", line 42, in parse\n",
      "    run_cmd(**args)\n",
      "  File \"/g/data/hh5/public/apps/miniconda3/envs/analysis3-24.04/lib/python3.10/site-packages/payu/subcommands/run_cmd.py\", line 24, in runcmd\n",
      "    pbs_vars = cli.set_env_vars(init_run=init_run,\n",
      "  File \"/g/data/hh5/public/apps/miniconda3/envs/analysis3-24.04/lib/python3.10/site-packages/payu/cli.py\", line 122, in set_env_vars\n",
      "    assert n_runs > 0\n",
      "AssertionError\n"
     ]
    },
    {
     "name": "stdout",
     "output_type": "stream",
     "text": [
      "Total outputs: 10\n"
     ]
    },
    {
     "name": "stderr",
     "output_type": "stream",
     "text": [
      "Traceback (most recent call last):\n",
      "  File \"/g/data/hh5/public/apps/miniconda3/envs/analysis3/bin/payu\", line 10, in <module>\n",
      "    sys.exit(parse())\n",
      "  File \"/g/data/hh5/public/apps/miniconda3/envs/analysis3-24.04/lib/python3.10/site-packages/payu/cli.py\", line 42, in parse\n",
      "    run_cmd(**args)\n",
      "  File \"/g/data/hh5/public/apps/miniconda3/envs/analysis3-24.04/lib/python3.10/site-packages/payu/subcommands/run_cmd.py\", line 24, in runcmd\n",
      "    pbs_vars = cli.set_env_vars(init_run=init_run,\n",
      "  File \"/g/data/hh5/public/apps/miniconda3/envs/analysis3-24.04/lib/python3.10/site-packages/payu/cli.py\", line 122, in set_env_vars\n",
      "    assert n_runs > 0\n",
      "AssertionError\n"
     ]
    },
    {
     "name": "stdout",
     "output_type": "stream",
     "text": [
      "Total outputs: 10\n"
     ]
    },
    {
     "name": "stderr",
     "output_type": "stream",
     "text": [
      "Traceback (most recent call last):\n",
      "  File \"/g/data/hh5/public/apps/miniconda3/envs/analysis3/bin/payu\", line 10, in <module>\n",
      "    sys.exit(parse())\n",
      "  File \"/g/data/hh5/public/apps/miniconda3/envs/analysis3-24.04/lib/python3.10/site-packages/payu/cli.py\", line 42, in parse\n",
      "    run_cmd(**args)\n",
      "  File \"/g/data/hh5/public/apps/miniconda3/envs/analysis3-24.04/lib/python3.10/site-packages/payu/subcommands/run_cmd.py\", line 24, in runcmd\n",
      "    pbs_vars = cli.set_env_vars(init_run=init_run,\n",
      "  File \"/g/data/hh5/public/apps/miniconda3/envs/analysis3-24.04/lib/python3.10/site-packages/payu/cli.py\", line 122, in set_env_vars\n",
      "    assert n_runs > 0\n",
      "AssertionError\n"
     ]
    },
    {
     "name": "stdout",
     "output_type": "stream",
     "text": [
      "Total outputs: 10\n"
     ]
    },
    {
     "name": "stderr",
     "output_type": "stream",
     "text": [
      "Traceback (most recent call last):\n",
      "  File \"/g/data/hh5/public/apps/miniconda3/envs/analysis3/bin/payu\", line 10, in <module>\n",
      "    sys.exit(parse())\n",
      "  File \"/g/data/hh5/public/apps/miniconda3/envs/analysis3-24.04/lib/python3.10/site-packages/payu/cli.py\", line 42, in parse\n",
      "    run_cmd(**args)\n",
      "  File \"/g/data/hh5/public/apps/miniconda3/envs/analysis3-24.04/lib/python3.10/site-packages/payu/subcommands/run_cmd.py\", line 24, in runcmd\n",
      "    pbs_vars = cli.set_env_vars(init_run=init_run,\n",
      "  File \"/g/data/hh5/public/apps/miniconda3/envs/analysis3-24.04/lib/python3.10/site-packages/payu/cli.py\", line 122, in set_env_vars\n",
      "    assert n_runs > 0\n",
      "AssertionError\n"
     ]
    },
    {
     "name": "stdout",
     "output_type": "stream",
     "text": [
      "Total outputs: 10\n"
     ]
    },
    {
     "name": "stderr",
     "output_type": "stream",
     "text": [
      "Traceback (most recent call last):\n",
      "  File \"/g/data/hh5/public/apps/miniconda3/envs/analysis3/bin/payu\", line 10, in <module>\n",
      "    sys.exit(parse())\n",
      "  File \"/g/data/hh5/public/apps/miniconda3/envs/analysis3-24.04/lib/python3.10/site-packages/payu/cli.py\", line 42, in parse\n",
      "    run_cmd(**args)\n",
      "  File \"/g/data/hh5/public/apps/miniconda3/envs/analysis3-24.04/lib/python3.10/site-packages/payu/subcommands/run_cmd.py\", line 24, in runcmd\n",
      "    pbs_vars = cli.set_env_vars(init_run=init_run,\n",
      "  File \"/g/data/hh5/public/apps/miniconda3/envs/analysis3-24.04/lib/python3.10/site-packages/payu/cli.py\", line 122, in set_env_vars\n",
      "    assert n_runs > 0\n",
      "AssertionError\n"
     ]
    },
    {
     "name": "stdout",
     "output_type": "stream",
     "text": [
      "Total outputs: 10\n"
     ]
    },
    {
     "name": "stderr",
     "output_type": "stream",
     "text": [
      "Traceback (most recent call last):\n",
      "  File \"/g/data/hh5/public/apps/miniconda3/envs/analysis3/bin/payu\", line 10, in <module>\n",
      "    sys.exit(parse())\n",
      "  File \"/g/data/hh5/public/apps/miniconda3/envs/analysis3-24.04/lib/python3.10/site-packages/payu/cli.py\", line 42, in parse\n",
      "    run_cmd(**args)\n",
      "  File \"/g/data/hh5/public/apps/miniconda3/envs/analysis3-24.04/lib/python3.10/site-packages/payu/subcommands/run_cmd.py\", line 24, in runcmd\n",
      "    pbs_vars = cli.set_env_vars(init_run=init_run,\n",
      "  File \"/g/data/hh5/public/apps/miniconda3/envs/analysis3-24.04/lib/python3.10/site-packages/payu/cli.py\", line 122, in set_env_vars\n",
      "    assert n_runs > 0\n",
      "AssertionError\n"
     ]
    },
    {
     "name": "stdout",
     "output_type": "stream",
     "text": [
      "Total outputs: 10\n"
     ]
    },
    {
     "name": "stderr",
     "output_type": "stream",
     "text": [
      "Traceback (most recent call last):\n",
      "  File \"/g/data/hh5/public/apps/miniconda3/envs/analysis3/bin/payu\", line 10, in <module>\n",
      "    sys.exit(parse())\n",
      "  File \"/g/data/hh5/public/apps/miniconda3/envs/analysis3-24.04/lib/python3.10/site-packages/payu/cli.py\", line 42, in parse\n",
      "    run_cmd(**args)\n",
      "  File \"/g/data/hh5/public/apps/miniconda3/envs/analysis3-24.04/lib/python3.10/site-packages/payu/subcommands/run_cmd.py\", line 24, in runcmd\n",
      "    pbs_vars = cli.set_env_vars(init_run=init_run,\n",
      "  File \"/g/data/hh5/public/apps/miniconda3/envs/analysis3-24.04/lib/python3.10/site-packages/payu/cli.py\", line 122, in set_env_vars\n",
      "    assert n_runs > 0\n",
      "AssertionError\n"
     ]
    },
    {
     "name": "stdout",
     "output_type": "stream",
     "text": [
      "Total outputs: 10\n"
     ]
    },
    {
     "name": "stderr",
     "output_type": "stream",
     "text": [
      "Traceback (most recent call last):\n",
      "  File \"/g/data/hh5/public/apps/miniconda3/envs/analysis3/bin/payu\", line 10, in <module>\n",
      "    sys.exit(parse())\n",
      "  File \"/g/data/hh5/public/apps/miniconda3/envs/analysis3-24.04/lib/python3.10/site-packages/payu/cli.py\", line 42, in parse\n",
      "    run_cmd(**args)\n",
      "  File \"/g/data/hh5/public/apps/miniconda3/envs/analysis3-24.04/lib/python3.10/site-packages/payu/subcommands/run_cmd.py\", line 24, in runcmd\n",
      "    pbs_vars = cli.set_env_vars(init_run=init_run,\n",
      "  File \"/g/data/hh5/public/apps/miniconda3/envs/analysis3-24.04/lib/python3.10/site-packages/payu/cli.py\", line 122, in set_env_vars\n",
      "    assert n_runs > 0\n",
      "AssertionError\n"
     ]
    },
    {
     "name": "stdout",
     "output_type": "stream",
     "text": [
      "Total outputs: 10\n"
     ]
    },
    {
     "name": "stderr",
     "output_type": "stream",
     "text": [
      "Traceback (most recent call last):\n",
      "  File \"/g/data/hh5/public/apps/miniconda3/envs/analysis3/bin/payu\", line 10, in <module>\n",
      "    sys.exit(parse())\n",
      "  File \"/g/data/hh5/public/apps/miniconda3/envs/analysis3-24.04/lib/python3.10/site-packages/payu/cli.py\", line 42, in parse\n",
      "    run_cmd(**args)\n",
      "  File \"/g/data/hh5/public/apps/miniconda3/envs/analysis3-24.04/lib/python3.10/site-packages/payu/subcommands/run_cmd.py\", line 24, in runcmd\n",
      "    pbs_vars = cli.set_env_vars(init_run=init_run,\n",
      "  File \"/g/data/hh5/public/apps/miniconda3/envs/analysis3-24.04/lib/python3.10/site-packages/payu/cli.py\", line 122, in set_env_vars\n",
      "    assert n_runs > 0\n",
      "AssertionError\n"
     ]
    },
    {
     "name": "stdout",
     "output_type": "stream",
     "text": [
      "Total outputs: 10\n"
     ]
    },
    {
     "name": "stderr",
     "output_type": "stream",
     "text": [
      "Traceback (most recent call last):\n",
      "  File \"/g/data/hh5/public/apps/miniconda3/envs/analysis3/bin/payu\", line 10, in <module>\n",
      "    sys.exit(parse())\n",
      "  File \"/g/data/hh5/public/apps/miniconda3/envs/analysis3-24.04/lib/python3.10/site-packages/payu/cli.py\", line 42, in parse\n",
      "    run_cmd(**args)\n",
      "  File \"/g/data/hh5/public/apps/miniconda3/envs/analysis3-24.04/lib/python3.10/site-packages/payu/subcommands/run_cmd.py\", line 24, in runcmd\n",
      "    pbs_vars = cli.set_env_vars(init_run=init_run,\n",
      "  File \"/g/data/hh5/public/apps/miniconda3/envs/analysis3-24.04/lib/python3.10/site-packages/payu/cli.py\", line 122, in set_env_vars\n",
      "    assert n_runs > 0\n",
      "AssertionError\n"
     ]
    },
    {
     "name": "stdout",
     "output_type": "stream",
     "text": [
      "Total outputs: 10\n"
     ]
    },
    {
     "name": "stderr",
     "output_type": "stream",
     "text": [
      "Traceback (most recent call last):\n",
      "  File \"/g/data/hh5/public/apps/miniconda3/envs/analysis3/bin/payu\", line 10, in <module>\n",
      "    sys.exit(parse())\n",
      "  File \"/g/data/hh5/public/apps/miniconda3/envs/analysis3-24.04/lib/python3.10/site-packages/payu/cli.py\", line 42, in parse\n",
      "    run_cmd(**args)\n",
      "  File \"/g/data/hh5/public/apps/miniconda3/envs/analysis3-24.04/lib/python3.10/site-packages/payu/subcommands/run_cmd.py\", line 24, in runcmd\n",
      "    pbs_vars = cli.set_env_vars(init_run=init_run,\n",
      "  File \"/g/data/hh5/public/apps/miniconda3/envs/analysis3-24.04/lib/python3.10/site-packages/payu/cli.py\", line 122, in set_env_vars\n",
      "    assert n_runs > 0\n",
      "AssertionError\n"
     ]
    },
    {
     "name": "stdout",
     "output_type": "stream",
     "text": [
      "Total outputs: 10\n"
     ]
    },
    {
     "name": "stderr",
     "output_type": "stream",
     "text": [
      "Traceback (most recent call last):\n",
      "  File \"/g/data/hh5/public/apps/miniconda3/envs/analysis3/bin/payu\", line 10, in <module>\n",
      "    sys.exit(parse())\n",
      "  File \"/g/data/hh5/public/apps/miniconda3/envs/analysis3-24.04/lib/python3.10/site-packages/payu/cli.py\", line 42, in parse\n",
      "    run_cmd(**args)\n",
      "  File \"/g/data/hh5/public/apps/miniconda3/envs/analysis3-24.04/lib/python3.10/site-packages/payu/subcommands/run_cmd.py\", line 24, in runcmd\n",
      "    pbs_vars = cli.set_env_vars(init_run=init_run,\n",
      "  File \"/g/data/hh5/public/apps/miniconda3/envs/analysis3-24.04/lib/python3.10/site-packages/payu/cli.py\", line 122, in set_env_vars\n",
      "    assert n_runs > 0\n",
      "AssertionError\n"
     ]
    },
    {
     "name": "stdout",
     "output_type": "stream",
     "text": [
      "Total outputs: 10\n"
     ]
    },
    {
     "name": "stderr",
     "output_type": "stream",
     "text": [
      "Traceback (most recent call last):\n",
      "  File \"/g/data/hh5/public/apps/miniconda3/envs/analysis3/bin/payu\", line 10, in <module>\n",
      "    sys.exit(parse())\n",
      "  File \"/g/data/hh5/public/apps/miniconda3/envs/analysis3-24.04/lib/python3.10/site-packages/payu/cli.py\", line 42, in parse\n",
      "    run_cmd(**args)\n",
      "  File \"/g/data/hh5/public/apps/miniconda3/envs/analysis3-24.04/lib/python3.10/site-packages/payu/subcommands/run_cmd.py\", line 24, in runcmd\n",
      "    pbs_vars = cli.set_env_vars(init_run=init_run,\n",
      "  File \"/g/data/hh5/public/apps/miniconda3/envs/analysis3-24.04/lib/python3.10/site-packages/payu/cli.py\", line 122, in set_env_vars\n",
      "    assert n_runs > 0\n",
      "AssertionError\n"
     ]
    },
    {
     "name": "stdout",
     "output_type": "stream",
     "text": [
      "Total outputs: 10\n"
     ]
    },
    {
     "name": "stderr",
     "output_type": "stream",
     "text": [
      "Traceback (most recent call last):\n",
      "  File \"/g/data/hh5/public/apps/miniconda3/envs/analysis3/bin/payu\", line 10, in <module>\n",
      "    sys.exit(parse())\n",
      "  File \"/g/data/hh5/public/apps/miniconda3/envs/analysis3-24.04/lib/python3.10/site-packages/payu/cli.py\", line 42, in parse\n",
      "    run_cmd(**args)\n",
      "  File \"/g/data/hh5/public/apps/miniconda3/envs/analysis3-24.04/lib/python3.10/site-packages/payu/subcommands/run_cmd.py\", line 24, in runcmd\n",
      "    pbs_vars = cli.set_env_vars(init_run=init_run,\n",
      "  File \"/g/data/hh5/public/apps/miniconda3/envs/analysis3-24.04/lib/python3.10/site-packages/payu/cli.py\", line 122, in set_env_vars\n",
      "    assert n_runs > 0\n",
      "AssertionError\n"
     ]
    }
   ],
   "source": [
    "for strength in strengths:\n",
    "    expt = al.expt(x,y,nlayers,\"strength\",strength,overrides=overrides)\n",
    "    # expt.make_inputs()\n",
    "    # expt.setup()\n",
    "    # path = al.basepath / \"rundirs\" / expt.variable / f\"{expt.variable}_{expt.var_value}\"\n",
    "    # expt.run()\n",
    "    expt.resume()"
   ]
  },
  {
   "cell_type": "code",
   "execution_count": 9,
   "metadata": {},
   "outputs": [
    {
     "name": "stdout",
     "output_type": "stream",
     "text": [
      "Total outputs: 10\n"
     ]
    },
    {
     "name": "stderr",
     "output_type": "stream",
     "text": [
      "Traceback (most recent call last):\n",
      "  File \"/g/data/hh5/public/apps/miniconda3/envs/analysis3/bin/payu\", line 10, in <module>\n",
      "    sys.exit(parse())\n",
      "  File \"/g/data/hh5/public/apps/miniconda3/envs/analysis3-24.04/lib/python3.10/site-packages/payu/cli.py\", line 42, in parse\n",
      "    run_cmd(**args)\n",
      "  File \"/g/data/hh5/public/apps/miniconda3/envs/analysis3-24.04/lib/python3.10/site-packages/payu/subcommands/run_cmd.py\", line 24, in runcmd\n",
      "    pbs_vars = cli.set_env_vars(init_run=init_run,\n",
      "  File \"/g/data/hh5/public/apps/miniconda3/envs/analysis3-24.04/lib/python3.10/site-packages/payu/cli.py\", line 122, in set_env_vars\n",
      "    assert n_runs > 0\n",
      "AssertionError\n"
     ]
    },
    {
     "name": "stdout",
     "output_type": "stream",
     "text": [
      "Total outputs: 10\n"
     ]
    },
    {
     "name": "stderr",
     "output_type": "stream",
     "text": [
      "Traceback (most recent call last):\n",
      "  File \"/g/data/hh5/public/apps/miniconda3/envs/analysis3/bin/payu\", line 10, in <module>\n",
      "    sys.exit(parse())\n",
      "  File \"/g/data/hh5/public/apps/miniconda3/envs/analysis3-24.04/lib/python3.10/site-packages/payu/cli.py\", line 42, in parse\n",
      "    run_cmd(**args)\n",
      "  File \"/g/data/hh5/public/apps/miniconda3/envs/analysis3-24.04/lib/python3.10/site-packages/payu/subcommands/run_cmd.py\", line 24, in runcmd\n",
      "    pbs_vars = cli.set_env_vars(init_run=init_run,\n",
      "  File \"/g/data/hh5/public/apps/miniconda3/envs/analysis3-24.04/lib/python3.10/site-packages/payu/cli.py\", line 122, in set_env_vars\n",
      "    assert n_runs > 0\n",
      "AssertionError\n"
     ]
    },
    {
     "name": "stdout",
     "output_type": "stream",
     "text": [
      "Total outputs: 10\n"
     ]
    },
    {
     "name": "stderr",
     "output_type": "stream",
     "text": [
      "Traceback (most recent call last):\n",
      "  File \"/g/data/hh5/public/apps/miniconda3/envs/analysis3/bin/payu\", line 10, in <module>\n",
      "    sys.exit(parse())\n",
      "  File \"/g/data/hh5/public/apps/miniconda3/envs/analysis3-24.04/lib/python3.10/site-packages/payu/cli.py\", line 42, in parse\n",
      "    run_cmd(**args)\n",
      "  File \"/g/data/hh5/public/apps/miniconda3/envs/analysis3-24.04/lib/python3.10/site-packages/payu/subcommands/run_cmd.py\", line 24, in runcmd\n",
      "    pbs_vars = cli.set_env_vars(init_run=init_run,\n",
      "  File \"/g/data/hh5/public/apps/miniconda3/envs/analysis3-24.04/lib/python3.10/site-packages/payu/cli.py\", line 122, in set_env_vars\n",
      "    assert n_runs > 0\n",
      "AssertionError\n"
     ]
    },
    {
     "name": "stdout",
     "output_type": "stream",
     "text": [
      "Total outputs: 10\n"
     ]
    },
    {
     "name": "stderr",
     "output_type": "stream",
     "text": [
      "Traceback (most recent call last):\n",
      "  File \"/g/data/hh5/public/apps/miniconda3/envs/analysis3/bin/payu\", line 10, in <module>\n",
      "    sys.exit(parse())\n",
      "  File \"/g/data/hh5/public/apps/miniconda3/envs/analysis3-24.04/lib/python3.10/site-packages/payu/cli.py\", line 42, in parse\n",
      "    run_cmd(**args)\n",
      "  File \"/g/data/hh5/public/apps/miniconda3/envs/analysis3-24.04/lib/python3.10/site-packages/payu/subcommands/run_cmd.py\", line 24, in runcmd\n",
      "    pbs_vars = cli.set_env_vars(init_run=init_run,\n",
      "  File \"/g/data/hh5/public/apps/miniconda3/envs/analysis3-24.04/lib/python3.10/site-packages/payu/cli.py\", line 122, in set_env_vars\n",
      "    assert n_runs > 0\n",
      "AssertionError\n"
     ]
    },
    {
     "name": "stdout",
     "output_type": "stream",
     "text": [
      "Total outputs: 10\n"
     ]
    },
    {
     "name": "stderr",
     "output_type": "stream",
     "text": [
      "Traceback (most recent call last):\n",
      "  File \"/g/data/hh5/public/apps/miniconda3/envs/analysis3/bin/payu\", line 10, in <module>\n",
      "    sys.exit(parse())\n",
      "  File \"/g/data/hh5/public/apps/miniconda3/envs/analysis3-24.04/lib/python3.10/site-packages/payu/cli.py\", line 42, in parse\n",
      "    run_cmd(**args)\n",
      "  File \"/g/data/hh5/public/apps/miniconda3/envs/analysis3-24.04/lib/python3.10/site-packages/payu/subcommands/run_cmd.py\", line 24, in runcmd\n",
      "    pbs_vars = cli.set_env_vars(init_run=init_run,\n",
      "  File \"/g/data/hh5/public/apps/miniconda3/envs/analysis3-24.04/lib/python3.10/site-packages/payu/cli.py\", line 122, in set_env_vars\n",
      "    assert n_runs > 0\n",
      "AssertionError\n"
     ]
    },
    {
     "name": "stdout",
     "output_type": "stream",
     "text": [
      "Total outputs: 10\n"
     ]
    },
    {
     "name": "stderr",
     "output_type": "stream",
     "text": [
      "Traceback (most recent call last):\n",
      "  File \"/g/data/hh5/public/apps/miniconda3/envs/analysis3/bin/payu\", line 10, in <module>\n",
      "    sys.exit(parse())\n",
      "  File \"/g/data/hh5/public/apps/miniconda3/envs/analysis3-24.04/lib/python3.10/site-packages/payu/cli.py\", line 42, in parse\n",
      "    run_cmd(**args)\n",
      "  File \"/g/data/hh5/public/apps/miniconda3/envs/analysis3-24.04/lib/python3.10/site-packages/payu/subcommands/run_cmd.py\", line 24, in runcmd\n",
      "    pbs_vars = cli.set_env_vars(init_run=init_run,\n",
      "  File \"/g/data/hh5/public/apps/miniconda3/envs/analysis3-24.04/lib/python3.10/site-packages/payu/cli.py\", line 122, in set_env_vars\n",
      "    assert n_runs > 0\n",
      "AssertionError\n"
     ]
    },
    {
     "name": "stdout",
     "output_type": "stream",
     "text": [
      "Total outputs: 10\n"
     ]
    },
    {
     "name": "stderr",
     "output_type": "stream",
     "text": [
      "Traceback (most recent call last):\n",
      "  File \"/g/data/hh5/public/apps/miniconda3/envs/analysis3/bin/payu\", line 10, in <module>\n",
      "    sys.exit(parse())\n",
      "  File \"/g/data/hh5/public/apps/miniconda3/envs/analysis3-24.04/lib/python3.10/site-packages/payu/cli.py\", line 42, in parse\n",
      "    run_cmd(**args)\n",
      "  File \"/g/data/hh5/public/apps/miniconda3/envs/analysis3-24.04/lib/python3.10/site-packages/payu/subcommands/run_cmd.py\", line 24, in runcmd\n",
      "    pbs_vars = cli.set_env_vars(init_run=init_run,\n",
      "  File \"/g/data/hh5/public/apps/miniconda3/envs/analysis3-24.04/lib/python3.10/site-packages/payu/cli.py\", line 122, in set_env_vars\n",
      "    assert n_runs > 0\n",
      "AssertionError\n"
     ]
    },
    {
     "name": "stdout",
     "output_type": "stream",
     "text": [
      "Total outputs: 10\n"
     ]
    },
    {
     "name": "stderr",
     "output_type": "stream",
     "text": [
      "Traceback (most recent call last):\n",
      "  File \"/g/data/hh5/public/apps/miniconda3/envs/analysis3/bin/payu\", line 10, in <module>\n",
      "    sys.exit(parse())\n",
      "  File \"/g/data/hh5/public/apps/miniconda3/envs/analysis3-24.04/lib/python3.10/site-packages/payu/cli.py\", line 42, in parse\n",
      "    run_cmd(**args)\n",
      "  File \"/g/data/hh5/public/apps/miniconda3/envs/analysis3-24.04/lib/python3.10/site-packages/payu/subcommands/run_cmd.py\", line 24, in runcmd\n",
      "    pbs_vars = cli.set_env_vars(init_run=init_run,\n",
      "  File \"/g/data/hh5/public/apps/miniconda3/envs/analysis3-24.04/lib/python3.10/site-packages/payu/cli.py\", line 122, in set_env_vars\n",
      "    assert n_runs > 0\n",
      "AssertionError\n"
     ]
    },
    {
     "name": "stdout",
     "output_type": "stream",
     "text": [
      "Total outputs: 10\n"
     ]
    },
    {
     "name": "stderr",
     "output_type": "stream",
     "text": [
      "Traceback (most recent call last):\n",
      "  File \"/g/data/hh5/public/apps/miniconda3/envs/analysis3/bin/payu\", line 10, in <module>\n",
      "    sys.exit(parse())\n",
      "  File \"/g/data/hh5/public/apps/miniconda3/envs/analysis3-24.04/lib/python3.10/site-packages/payu/cli.py\", line 42, in parse\n",
      "    run_cmd(**args)\n",
      "  File \"/g/data/hh5/public/apps/miniconda3/envs/analysis3-24.04/lib/python3.10/site-packages/payu/subcommands/run_cmd.py\", line 24, in runcmd\n",
      "    pbs_vars = cli.set_env_vars(init_run=init_run,\n",
      "  File \"/g/data/hh5/public/apps/miniconda3/envs/analysis3-24.04/lib/python3.10/site-packages/payu/cli.py\", line 122, in set_env_vars\n",
      "    assert n_runs > 0\n",
      "AssertionError\n"
     ]
    },
    {
     "name": "stdout",
     "output_type": "stream",
     "text": [
      "Total outputs: 10\n"
     ]
    },
    {
     "name": "stderr",
     "output_type": "stream",
     "text": [
      "Traceback (most recent call last):\n",
      "  File \"/g/data/hh5/public/apps/miniconda3/envs/analysis3/bin/payu\", line 10, in <module>\n",
      "    sys.exit(parse())\n",
      "  File \"/g/data/hh5/public/apps/miniconda3/envs/analysis3-24.04/lib/python3.10/site-packages/payu/cli.py\", line 42, in parse\n",
      "    run_cmd(**args)\n",
      "  File \"/g/data/hh5/public/apps/miniconda3/envs/analysis3-24.04/lib/python3.10/site-packages/payu/subcommands/run_cmd.py\", line 24, in runcmd\n",
      "    pbs_vars = cli.set_env_vars(init_run=init_run,\n",
      "  File \"/g/data/hh5/public/apps/miniconda3/envs/analysis3-24.04/lib/python3.10/site-packages/payu/cli.py\", line 122, in set_env_vars\n",
      "    assert n_runs > 0\n",
      "AssertionError\n"
     ]
    },
    {
     "name": "stdout",
     "output_type": "stream",
     "text": [
      "Total outputs: 10\n"
     ]
    },
    {
     "name": "stderr",
     "output_type": "stream",
     "text": [
      "Traceback (most recent call last):\n",
      "  File \"/g/data/hh5/public/apps/miniconda3/envs/analysis3/bin/payu\", line 10, in <module>\n",
      "    sys.exit(parse())\n",
      "  File \"/g/data/hh5/public/apps/miniconda3/envs/analysis3-24.04/lib/python3.10/site-packages/payu/cli.py\", line 42, in parse\n",
      "    run_cmd(**args)\n",
      "  File \"/g/data/hh5/public/apps/miniconda3/envs/analysis3-24.04/lib/python3.10/site-packages/payu/subcommands/run_cmd.py\", line 24, in runcmd\n",
      "    pbs_vars = cli.set_env_vars(init_run=init_run,\n",
      "  File \"/g/data/hh5/public/apps/miniconda3/envs/analysis3-24.04/lib/python3.10/site-packages/payu/cli.py\", line 122, in set_env_vars\n",
      "    assert n_runs > 0\n",
      "AssertionError\n"
     ]
    },
    {
     "name": "stdout",
     "output_type": "stream",
     "text": [
      "Total outputs: 10\n"
     ]
    },
    {
     "name": "stderr",
     "output_type": "stream",
     "text": [
      "Traceback (most recent call last):\n",
      "  File \"/g/data/hh5/public/apps/miniconda3/envs/analysis3/bin/payu\", line 10, in <module>\n",
      "    sys.exit(parse())\n",
      "  File \"/g/data/hh5/public/apps/miniconda3/envs/analysis3-24.04/lib/python3.10/site-packages/payu/cli.py\", line 42, in parse\n",
      "    run_cmd(**args)\n",
      "  File \"/g/data/hh5/public/apps/miniconda3/envs/analysis3-24.04/lib/python3.10/site-packages/payu/subcommands/run_cmd.py\", line 24, in runcmd\n",
      "    pbs_vars = cli.set_env_vars(init_run=init_run,\n",
      "  File \"/g/data/hh5/public/apps/miniconda3/envs/analysis3-24.04/lib/python3.10/site-packages/payu/cli.py\", line 122, in set_env_vars\n",
      "    assert n_runs > 0\n",
      "AssertionError\n"
     ]
    }
   ],
   "source": [
    "for width in widths:\n",
    "    expt = al.expt(x,y,nlayers,\"width\",width,overrides=overrides)\n",
    "    # expt.make_inputs()\n",
    "    # expt.setup()\n",
    "    # expt.run()\n",
    "    expt.resume()"
   ]
  },
  {
   "cell_type": "code",
   "execution_count": 3,
   "metadata": {},
   "outputs": [
    {
     "name": "stdout",
     "output_type": "stream",
     "text": [
      "Total outputs: 6\n",
      "125364050.gadi-pbs\n",
      "payu: warning: Job request includes 12 unused CPUs.\n",
      "payu: warning: CPU request increased from 900 to 912\n",
      "Loading input manifest: manifests/input.yaml\n",
      "Loading restart manifest: manifests/restart.yaml\n",
      "Loading exe manifest: manifests/exe.yaml\n",
      "payu: Found modules in /opt/Modules/v4.3.0\n",
      "qsub -q normal -P ol01 -l walltime=3600 -l ncpus=912 -l mem=3648GB -N forcing_width_1 -l wd -j n -v PAYU_PATH=/g/data/hh5/public/apps/miniconda3/envs/analysis3-24.01/bin,PAYU_N_RUNS=4,PAYU_FORCE=True,MODULESHOME=/opt/Modules/v4.3.0,MODULES_CMD=/opt/Modules/v4.3.0/libexec/modulecmd.tcl,MODULEPATH=/etc/scl/modulefiles:/opt/Modules/modulefiles:/opt/Modules/v4.3.0/modulefiles:/apps/Modules/modulefiles -W umask=027 -l storage=gdata/hh5+gdata/v45+scratch/v45 -- /g/data/hh5/public/apps/miniconda3/envs/analysis3-24.01/bin/python3.10 /g/data/hh5/public/apps/miniconda3/envs/analysis3-24.01/bin/payu-run\n",
      "Total outputs: 6\n",
      "125364051.gadi-pbs\n",
      "payu: warning: Job request includes 12 unused CPUs.\n",
      "payu: warning: CPU request increased from 900 to 912\n",
      "Loading input manifest: manifests/input.yaml\n",
      "Loading restart manifest: manifests/restart.yaml\n",
      "Loading exe manifest: manifests/exe.yaml\n",
      "payu: Found modules in /opt/Modules/v4.3.0\n",
      "qsub -q normal -P ol01 -l walltime=3600 -l ncpus=912 -l mem=3648GB -N forcing_width_1 -l wd -j n -v PAYU_PATH=/g/data/hh5/public/apps/miniconda3/envs/analysis3-24.01/bin,PAYU_N_RUNS=4,PAYU_FORCE=True,MODULESHOME=/opt/Modules/v4.3.0,MODULES_CMD=/opt/Modules/v4.3.0/libexec/modulecmd.tcl,MODULEPATH=/etc/scl/modulefiles:/opt/Modules/modulefiles:/opt/Modules/v4.3.0/modulefiles:/apps/Modules/modulefiles -W umask=027 -l storage=gdata/hh5+gdata/v45+scratch/v45 -- /g/data/hh5/public/apps/miniconda3/envs/analysis3-24.01/bin/python3.10 /g/data/hh5/public/apps/miniconda3/envs/analysis3-24.01/bin/payu-run\n",
      "Total outputs: 6\n",
      "125364052.gadi-pbs\n",
      "payu: warning: Job request includes 12 unused CPUs.\n",
      "payu: warning: CPU request increased from 900 to 912\n",
      "Loading input manifest: manifests/input.yaml\n",
      "Loading restart manifest: manifests/restart.yaml\n",
      "Loading exe manifest: manifests/exe.yaml\n",
      "payu: Found modules in /opt/Modules/v4.3.0\n",
      "qsub -q normal -P ol01 -l walltime=3600 -l ncpus=912 -l mem=3648GB -N forcing_width_2 -l wd -j n -v PAYU_PATH=/g/data/hh5/public/apps/miniconda3/envs/analysis3-24.01/bin,PAYU_N_RUNS=4,PAYU_FORCE=True,MODULESHOME=/opt/Modules/v4.3.0,MODULES_CMD=/opt/Modules/v4.3.0/libexec/modulecmd.tcl,MODULEPATH=/etc/scl/modulefiles:/opt/Modules/modulefiles:/opt/Modules/v4.3.0/modulefiles:/apps/Modules/modulefiles -W umask=027 -l storage=gdata/hh5+gdata/v45+scratch/v45 -- /g/data/hh5/public/apps/miniconda3/envs/analysis3-24.01/bin/python3.10 /g/data/hh5/public/apps/miniconda3/envs/analysis3-24.01/bin/payu-run\n",
      "Total outputs: 6\n",
      "125364053.gadi-pbs\n",
      "payu: warning: Job request includes 12 unused CPUs.\n",
      "payu: warning: CPU request increased from 900 to 912\n",
      "Loading input manifest: manifests/input.yaml\n",
      "Loading restart manifest: manifests/restart.yaml\n",
      "Loading exe manifest: manifests/exe.yaml\n",
      "payu: Found modules in /opt/Modules/v4.3.0\n",
      "qsub -q normal -P ol01 -l walltime=3600 -l ncpus=912 -l mem=3648GB -N forcing_width_5 -l wd -j n -v PAYU_PATH=/g/data/hh5/public/apps/miniconda3/envs/analysis3-24.01/bin,PAYU_N_RUNS=4,PAYU_FORCE=True,MODULESHOME=/opt/Modules/v4.3.0,MODULES_CMD=/opt/Modules/v4.3.0/libexec/modulecmd.tcl,MODULEPATH=/etc/scl/modulefiles:/opt/Modules/modulefiles:/opt/Modules/v4.3.0/modulefiles:/apps/Modules/modulefiles -W umask=027 -l storage=gdata/hh5+gdata/v45+scratch/v45 -- /g/data/hh5/public/apps/miniconda3/envs/analysis3-24.01/bin/python3.10 /g/data/hh5/public/apps/miniconda3/envs/analysis3-24.01/bin/payu-run\n",
      "Total outputs: 6\n",
      "125364054.gadi-pbs\n",
      "payu: warning: Job request includes 12 unused CPUs.\n",
      "payu: warning: CPU request increased from 900 to 912\n",
      "Loading input manifest: manifests/input.yaml\n",
      "Loading restart manifest: manifests/restart.yaml\n",
      "Loading exe manifest: manifests/exe.yaml\n",
      "payu: Found modules in /opt/Modules/v4.3.0\n",
      "qsub -q normal -P ol01 -l walltime=3600 -l ncpus=912 -l mem=3648GB -N forcing_width_7 -l wd -j n -v PAYU_PATH=/g/data/hh5/public/apps/miniconda3/envs/analysis3-24.01/bin,PAYU_N_RUNS=4,PAYU_FORCE=True,MODULESHOME=/opt/Modules/v4.3.0,MODULES_CMD=/opt/Modules/v4.3.0/libexec/modulecmd.tcl,MODULEPATH=/etc/scl/modulefiles:/opt/Modules/modulefiles:/opt/Modules/v4.3.0/modulefiles:/apps/Modules/modulefiles -W umask=027 -l storage=gdata/hh5+gdata/v45+scratch/v45 -- /g/data/hh5/public/apps/miniconda3/envs/analysis3-24.01/bin/python3.10 /g/data/hh5/public/apps/miniconda3/envs/analysis3-24.01/bin/payu-run\n",
      "Total outputs: 6\n",
      "125364055.gadi-pbs\n",
      "payu: warning: Job request includes 12 unused CPUs.\n",
      "payu: warning: CPU request increased from 900 to 912\n",
      "Loading input manifest: manifests/input.yaml\n",
      "Loading restart manifest: manifests/restart.yaml\n",
      "Loading exe manifest: manifests/exe.yaml\n",
      "payu: Found modules in /opt/Modules/v4.3.0\n",
      "qsub -q normal -P ol01 -l walltime=3600 -l ncpus=912 -l mem=3648GB -N forcing_width_1 -l wd -j n -v PAYU_PATH=/g/data/hh5/public/apps/miniconda3/envs/analysis3-24.01/bin,PAYU_N_RUNS=4,PAYU_FORCE=True,MODULESHOME=/opt/Modules/v4.3.0,MODULES_CMD=/opt/Modules/v4.3.0/libexec/modulecmd.tcl,MODULEPATH=/etc/scl/modulefiles:/opt/Modules/modulefiles:/opt/Modules/v4.3.0/modulefiles:/apps/Modules/modulefiles -W umask=027 -l storage=gdata/hh5+gdata/v45+scratch/v45 -- /g/data/hh5/public/apps/miniconda3/envs/analysis3-24.01/bin/python3.10 /g/data/hh5/public/apps/miniconda3/envs/analysis3-24.01/bin/payu-run\n",
      "Total outputs: 6\n",
      "125364056.gadi-pbs\n",
      "payu: warning: Job request includes 12 unused CPUs.\n",
      "payu: warning: CPU request increased from 900 to 912\n",
      "Loading input manifest: manifests/input.yaml\n",
      "Loading restart manifest: manifests/restart.yaml\n",
      "Loading exe manifest: manifests/exe.yaml\n",
      "payu: Found modules in /opt/Modules/v4.3.0\n",
      "qsub -q normal -P ol01 -l walltime=3600 -l ncpus=912 -l mem=3648GB -N forcing_width_1 -l wd -j n -v PAYU_PATH=/g/data/hh5/public/apps/miniconda3/envs/analysis3-24.01/bin,PAYU_N_RUNS=4,PAYU_FORCE=True,MODULESHOME=/opt/Modules/v4.3.0,MODULES_CMD=/opt/Modules/v4.3.0/libexec/modulecmd.tcl,MODULEPATH=/etc/scl/modulefiles:/opt/Modules/modulefiles:/opt/Modules/v4.3.0/modulefiles:/apps/Modules/modulefiles -W umask=027 -l storage=gdata/hh5+gdata/v45+scratch/v45 -- /g/data/hh5/public/apps/miniconda3/envs/analysis3-24.01/bin/python3.10 /g/data/hh5/public/apps/miniconda3/envs/analysis3-24.01/bin/payu-run\n",
      "Total outputs: 6\n",
      "125364058.gadi-pbs\n",
      "payu: warning: Job request includes 12 unused CPUs.\n",
      "payu: warning: CPU request increased from 900 to 912\n",
      "Loading input manifest: manifests/input.yaml\n",
      "Loading restart manifest: manifests/restart.yaml\n",
      "Loading exe manifest: manifests/exe.yaml\n",
      "payu: Found modules in /opt/Modules/v4.3.0\n",
      "qsub -q normal -P ol01 -l walltime=3600 -l ncpus=912 -l mem=3648GB -N forcing_width_2 -l wd -j n -v PAYU_PATH=/g/data/hh5/public/apps/miniconda3/envs/analysis3-24.01/bin,PAYU_N_RUNS=4,PAYU_FORCE=True,MODULESHOME=/opt/Modules/v4.3.0,MODULES_CMD=/opt/Modules/v4.3.0/libexec/modulecmd.tcl,MODULEPATH=/etc/scl/modulefiles:/opt/Modules/modulefiles:/opt/Modules/v4.3.0/modulefiles:/apps/Modules/modulefiles -W umask=027 -l storage=gdata/hh5+gdata/v45+scratch/v45 -- /g/data/hh5/public/apps/miniconda3/envs/analysis3-24.01/bin/python3.10 /g/data/hh5/public/apps/miniconda3/envs/analysis3-24.01/bin/payu-run\n",
      "Total outputs: 6\n",
      "125364059.gadi-pbs\n",
      "payu: warning: Job request includes 12 unused CPUs.\n",
      "payu: warning: CPU request increased from 900 to 912\n",
      "Loading input manifest: manifests/input.yaml\n",
      "Loading restart manifest: manifests/restart.yaml\n",
      "Loading exe manifest: manifests/exe.yaml\n",
      "payu: Found modules in /opt/Modules/v4.3.0\n",
      "qsub -q normal -P ol01 -l walltime=3600 -l ncpus=912 -l mem=3648GB -N forcing_width_2 -l wd -j n -v PAYU_PATH=/g/data/hh5/public/apps/miniconda3/envs/analysis3-24.01/bin,PAYU_N_RUNS=4,PAYU_FORCE=True,MODULESHOME=/opt/Modules/v4.3.0,MODULES_CMD=/opt/Modules/v4.3.0/libexec/modulecmd.tcl,MODULEPATH=/etc/scl/modulefiles:/opt/Modules/modulefiles:/opt/Modules/v4.3.0/modulefiles:/apps/Modules/modulefiles -W umask=027 -l storage=gdata/hh5+gdata/v45+scratch/v45 -- /g/data/hh5/public/apps/miniconda3/envs/analysis3-24.01/bin/python3.10 /g/data/hh5/public/apps/miniconda3/envs/analysis3-24.01/bin/payu-run\n",
      "Total outputs: 7\n",
      "125364060.gadi-pbs\n",
      "payu: warning: Job request includes 12 unused CPUs.\n",
      "payu: warning: CPU request increased from 900 to 912\n",
      "Loading input manifest: manifests/input.yaml\n",
      "Loading restart manifest: manifests/restart.yaml\n",
      "Loading exe manifest: manifests/exe.yaml\n",
      "payu: Found modules in /opt/Modules/v4.3.0\n",
      "qsub -q normal -P ol01 -l walltime=3600 -l ncpus=912 -l mem=3648GB -N forcing_width_2 -l wd -j n -v PAYU_PATH=/g/data/hh5/public/apps/miniconda3/envs/analysis3-24.01/bin,PAYU_N_RUNS=3,PAYU_FORCE=True,MODULESHOME=/opt/Modules/v4.3.0,MODULES_CMD=/opt/Modules/v4.3.0/libexec/modulecmd.tcl,MODULEPATH=/etc/scl/modulefiles:/opt/Modules/modulefiles:/opt/Modules/v4.3.0/modulefiles:/apps/Modules/modulefiles -W umask=027 -l storage=gdata/hh5+gdata/v45+scratch/v45 -- /g/data/hh5/public/apps/miniconda3/envs/analysis3-24.01/bin/python3.10 /g/data/hh5/public/apps/miniconda3/envs/analysis3-24.01/bin/payu-run\n",
      "Total outputs: 6\n",
      "125364061.gadi-pbs\n",
      "payu: warning: Job request includes 12 unused CPUs.\n",
      "payu: warning: CPU request increased from 900 to 912\n",
      "Loading input manifest: manifests/input.yaml\n",
      "Loading restart manifest: manifests/restart.yaml\n",
      "Loading exe manifest: manifests/exe.yaml\n",
      "payu: Found modules in /opt/Modules/v4.3.0\n",
      "qsub -q normal -P ol01 -l walltime=3600 -l ncpus=912 -l mem=3648GB -N forcing_width_2 -l wd -j n -v PAYU_PATH=/g/data/hh5/public/apps/miniconda3/envs/analysis3-24.01/bin,PAYU_N_RUNS=4,PAYU_FORCE=True,MODULESHOME=/opt/Modules/v4.3.0,MODULES_CMD=/opt/Modules/v4.3.0/libexec/modulecmd.tcl,MODULEPATH=/etc/scl/modulefiles:/opt/Modules/modulefiles:/opt/Modules/v4.3.0/modulefiles:/apps/Modules/modulefiles -W umask=027 -l storage=gdata/hh5+gdata/v45+scratch/v45 -- /g/data/hh5/public/apps/miniconda3/envs/analysis3-24.01/bin/python3.10 /g/data/hh5/public/apps/miniconda3/envs/analysis3-24.01/bin/payu-run\n",
      "Total outputs: 7\n",
      "125364062.gadi-pbs\n",
      "payu: warning: Job request includes 12 unused CPUs.\n",
      "payu: warning: CPU request increased from 900 to 912\n",
      "Loading input manifest: manifests/input.yaml\n",
      "Loading restart manifest: manifests/restart.yaml\n",
      "Loading exe manifest: manifests/exe.yaml\n",
      "payu: Found modules in /opt/Modules/v4.3.0\n",
      "qsub -q normal -P ol01 -l walltime=3600 -l ncpus=912 -l mem=3648GB -N forcing_width_3 -l wd -j n -v PAYU_PATH=/g/data/hh5/public/apps/miniconda3/envs/analysis3-24.01/bin,PAYU_N_RUNS=3,PAYU_FORCE=True,MODULESHOME=/opt/Modules/v4.3.0,MODULES_CMD=/opt/Modules/v4.3.0/libexec/modulecmd.tcl,MODULEPATH=/etc/scl/modulefiles:/opt/Modules/modulefiles:/opt/Modules/v4.3.0/modulefiles:/apps/Modules/modulefiles -W umask=027 -l storage=gdata/hh5+gdata/v45+scratch/v45 -- /g/data/hh5/public/apps/miniconda3/envs/analysis3-24.01/bin/python3.10 /g/data/hh5/public/apps/miniconda3/envs/analysis3-24.01/bin/payu-run\n",
      "Total outputs: 6\n",
      "125364063.gadi-pbs\n",
      "payu: warning: Job request includes 12 unused CPUs.\n",
      "payu: warning: CPU request increased from 900 to 912\n",
      "Loading input manifest: manifests/input.yaml\n",
      "Loading restart manifest: manifests/restart.yaml\n",
      "Loading exe manifest: manifests/exe.yaml\n",
      "payu: Found modules in /opt/Modules/v4.3.0\n",
      "qsub -q normal -P ol01 -l walltime=3600 -l ncpus=912 -l mem=3648GB -N forcing_width_3 -l wd -j n -v PAYU_PATH=/g/data/hh5/public/apps/miniconda3/envs/analysis3-24.01/bin,PAYU_N_RUNS=4,PAYU_FORCE=True,MODULESHOME=/opt/Modules/v4.3.0,MODULES_CMD=/opt/Modules/v4.3.0/libexec/modulecmd.tcl,MODULEPATH=/etc/scl/modulefiles:/opt/Modules/modulefiles:/opt/Modules/v4.3.0/modulefiles:/apps/Modules/modulefiles -W umask=027 -l storage=gdata/hh5+gdata/v45+scratch/v45 -- /g/data/hh5/public/apps/miniconda3/envs/analysis3-24.01/bin/python3.10 /g/data/hh5/public/apps/miniconda3/envs/analysis3-24.01/bin/payu-run\n",
      "Total outputs: 6\n",
      "125364064.gadi-pbs\n",
      "payu: warning: Job request includes 12 unused CPUs.\n",
      "payu: warning: CPU request increased from 900 to 912\n",
      "Loading input manifest: manifests/input.yaml\n",
      "Loading restart manifest: manifests/restart.yaml\n",
      "Loading exe manifest: manifests/exe.yaml\n",
      "payu: Found modules in /opt/Modules/v4.3.0\n",
      "qsub -q normal -P ol01 -l walltime=3600 -l ncpus=912 -l mem=3648GB -N forcing_width_4 -l wd -j n -v PAYU_PATH=/g/data/hh5/public/apps/miniconda3/envs/analysis3-24.01/bin,PAYU_N_RUNS=4,PAYU_FORCE=True,MODULESHOME=/opt/Modules/v4.3.0,MODULES_CMD=/opt/Modules/v4.3.0/libexec/modulecmd.tcl,MODULEPATH=/etc/scl/modulefiles:/opt/Modules/modulefiles:/opt/Modules/v4.3.0/modulefiles:/apps/Modules/modulefiles -W umask=027 -l storage=gdata/hh5+gdata/v45+scratch/v45 -- /g/data/hh5/public/apps/miniconda3/envs/analysis3-24.01/bin/python3.10 /g/data/hh5/public/apps/miniconda3/envs/analysis3-24.01/bin/payu-run\n",
      "Total outputs: 6\n",
      "125364065.gadi-pbs\n",
      "payu: warning: Job request includes 12 unused CPUs.\n",
      "payu: warning: CPU request increased from 900 to 912\n",
      "Loading input manifest: manifests/input.yaml\n",
      "Loading restart manifest: manifests/restart.yaml\n",
      "Loading exe manifest: manifests/exe.yaml\n",
      "payu: Found modules in /opt/Modules/v4.3.0\n",
      "qsub -q normal -P ol01 -l walltime=3600 -l ncpus=912 -l mem=3648GB -N forcing_width_4 -l wd -j n -v PAYU_PATH=/g/data/hh5/public/apps/miniconda3/envs/analysis3-24.01/bin,PAYU_N_RUNS=4,PAYU_FORCE=True,MODULESHOME=/opt/Modules/v4.3.0,MODULES_CMD=/opt/Modules/v4.3.0/libexec/modulecmd.tcl,MODULEPATH=/etc/scl/modulefiles:/opt/Modules/modulefiles:/opt/Modules/v4.3.0/modulefiles:/apps/Modules/modulefiles -W umask=027 -l storage=gdata/hh5+gdata/v45+scratch/v45 -- /g/data/hh5/public/apps/miniconda3/envs/analysis3-24.01/bin/python3.10 /g/data/hh5/public/apps/miniconda3/envs/analysis3-24.01/bin/payu-run\n",
      "Total outputs: 6\n",
      "125364066.gadi-pbs\n",
      "payu: warning: Job request includes 12 unused CPUs.\n",
      "payu: warning: CPU request increased from 900 to 912\n",
      "Loading input manifest: manifests/input.yaml\n",
      "Loading restart manifest: manifests/restart.yaml\n",
      "Loading exe manifest: manifests/exe.yaml\n",
      "payu: Found modules in /opt/Modules/v4.3.0\n",
      "qsub -q normal -P ol01 -l walltime=3600 -l ncpus=912 -l mem=3648GB -N forcing_width_5 -l wd -j n -v PAYU_PATH=/g/data/hh5/public/apps/miniconda3/envs/analysis3-24.01/bin,PAYU_N_RUNS=4,PAYU_FORCE=True,MODULESHOME=/opt/Modules/v4.3.0,MODULES_CMD=/opt/Modules/v4.3.0/libexec/modulecmd.tcl,MODULEPATH=/etc/scl/modulefiles:/opt/Modules/modulefiles:/opt/Modules/v4.3.0/modulefiles:/apps/Modules/modulefiles -W umask=027 -l storage=gdata/hh5+gdata/v45+scratch/v45 -- /g/data/hh5/public/apps/miniconda3/envs/analysis3-24.01/bin/python3.10 /g/data/hh5/public/apps/miniconda3/envs/analysis3-24.01/bin/payu-run\n"
     ]
    }
   ],
   "source": [
    "# forcing_widths = [250,275,300,350,400,450,500]\n",
    "\n",
    "for forcing_width in forcing_widths:\n",
    "    expt = al.expt(x,y,nlayers,\"forcing_width\",forcing_width,overrides=overrides)\n",
    "    # expt.make_inputs()\n",
    "    # expt.setup()\n",
    "    # expt.run()\n",
    "    expt.resume()"
   ]
  },
  {
   "cell_type": "markdown",
   "metadata": {},
   "source": [
    "## Check for runs that are missing postprocessing"
   ]
  },
  {
   "cell_type": "code",
   "execution_count": 20,
   "metadata": {},
   "outputs": [],
   "source": [
    "from pathlib import Path\n",
    "\n",
    "def save_data(expt,run = \"*\"):\n",
    "\n",
    "    basepath = Path(\"/home/149/ab8992/topographic-NIWs/rundirs\") / expt.split(\"_\")[0] / expt / \"archive\" / f\"output{run}\"\n",
    "    print(\"basepath \",basepath)\n",
    "    u = xr.open_mfdataset(str(basepath) + \"/u.nc\", decode_times = False,decode_cf = False).sel(yh = slice(-250,250)).sel(xq = 250,method = \"nearest\").u.load()\n",
    "    ufar = xr.open_mfdataset(str(basepath) + \"/u.nc\", decode_times = False,decode_cf = False).sel(yh = slice(-250,250)).isel(xq = 0).u.load()\n",
    "    v = xr.open_mfdataset(str(basepath) + \"/v.nc\", decode_times = False,decode_cf = False).sel(xh = slice(-250,250)).sel(yq = 250,method = \"nearest\").v.load()\n",
    "\n",
    "    eEastFar = xr.open_mfdataset(str(basepath) + \"/e.nc\", decode_times = False,decode_cf = False).sel(yh = slice(-250,250)).isel(xh = 0).e.load()\n",
    "\n",
    "    eEast = xr.open_mfdataset(str(basepath) + \"/e.nc\", decode_times = False,decode_cf = False).sel(yh = slice(-250,250)).sel(xh = 250,method = \"nearest\").e.load()\n",
    "    eNorth = xr.open_mfdataset(str(basepath) + \"/e.nc\", decode_times = False,decode_cf = False).sel(xh = slice(-250,250)).sel(yh = 250,method = \"nearest\").e.load()\n",
    "\n",
    "    pEast = al.calculate_pressure(eEast,u.zl)\n",
    "    pEastFar = al.calculate_pressure(eEastFar,u.zl)\n",
    "    pNorth = al.calculate_pressure(eNorth,u.zl)\n",
    "\n",
    "    pEast = pEast - pEast.isel(time = 0)\n",
    "    pEastFar = pEastFar - pEastFar.isel(time = 0)\n",
    "    pNorth = pNorth - pNorth.isel(time = 0)\n",
    "\n",
    "    out = xr.merge([u - ufar,v,(pEast - pEastFar).rename(\"pEast\"),pNorth.rename(\"pNorth\")]).load()\n",
    "    outpath = Path(\"/g/data/v45/ab8992/bottom-niws-outputs/sept2024-bniw-outputs/\") / expt.split(\"_\")[0] / expt\n",
    "    if not os.path.exists(outpath):\n",
    "        os.makedirs(outpath)\n",
    "    if run == \"*\":\n",
    "        run = \"all\"\n",
    "    out.to_netcdf(outpath / f\"{expt}_{run}.nc\")\n",
    "    return \n",
    "\n",
    "def re_run_postprocessing(exptname,runs):\n",
    "    archive = Path(\"/home/149/ab8992/topographic-NIWs/rundirs\") / exptname \n",
    "    outpath = Path(\"/g/data/v45/ab8992/bottom-niws-outputs/sept2024-bniw-outputs\") / exptname\n",
    "    for run in runs:\n",
    "        outputs = list((archive / f\"{exptname}_{run}\" / \"archive\").glob(\"output*\"))\n",
    "        for output in outputs:\n",
    "            num = int(output.name.split(\"output\")[-1])\n",
    "            # print(outpath / f\"{exptname}_{run}\" / f\"{exptname}_{run}_{num:03}.nc\")\n",
    "            if not os.path.exists(outpath / f\"{exptname}_{run}\" / f\"{exptname}_{run}_{num:03}.nc\"):\n",
    "                print(num,output.name,run)\n",
    "                save_data(f\"{exptname}_{run}\",run = f\"{num:03}\")\n",
    "\n",
    "\n",
    "re_run_postprocessing(\"width\",widths)\n",
    "# re_run_postprocessing(\"duration\",strengths)\n",
    "    # save_data(rundir.name,run = f\"{(len(outputs) - 1):03}\" )\n",
    "\n",
    "# /g/data/v45/ab8992/bottom-niws-outputs/sept2024-bniw-outputs/strength/strength_9/:\n",
    "# strength_9_000.nc  strength_9_001.nc  strength_9_002.nc"
   ]
  }
 ],
 "metadata": {
  "kernelspec": {
   "display_name": "Python [conda env:analysis3-24.01]",
   "language": "python",
   "name": "conda-env-analysis3-24.01-py"
  }
 },
 "nbformat": 4,
 "nbformat_minor": 4
}
